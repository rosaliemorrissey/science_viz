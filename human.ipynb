{
 "cells": [
  {
   "cell_type": "code",
   "execution_count": null,
   "metadata": {},
   "outputs": [],
   "source": [
    "import os\n",
    "import pandas as pd\n",
    "from tqdm import tqdm"
   ]
  },
  {
   "cell_type": "code",
   "execution_count": null,
   "metadata": {},
   "outputs": [],
   "source": [
    "file_names = [\n",
    "    'dictator.csv',\n",
    "    'ultimatum_strategy.csv',\n",
    "    'trust_investment.csv',\n",
    "    'bomb_risk.csv',\n",
    "    'public_goods_linear_water.csv',\n",
    "    'push_pull.csv',\n",
    "]\n",
    "\n",
    "user_ids = set()\n",
    "for file_name in file_names:\n",
    "    df = pd.read_csv(os.path.join('data-archived', file_name))\n",
    "    user_ids = user_ids.union(set(df['UserID'].values))\n",
    "\n",
    "print(len(user_ids))"
   ]
  },
  {
   "cell_type": "code",
   "execution_count": null,
   "metadata": {},
   "outputs": [],
   "source": [
    "import uuid\n",
    "\n",
    "user_id_to_uuid = {user_id: str(uuid.uuid4()) for user_id in user_ids}\n",
    "len(set(user_id_to_uuid.values()))"
   ]
  },
  {
   "cell_type": "code",
   "execution_count": null,
   "metadata": {},
   "outputs": [],
   "source": [
    "import math\n",
    "def round_bin(x, x_min=0, x_max=100, binwidth=10):\n",
    "    if x == 'None':\n",
    "        return None\n",
    "    x = float(x)\n",
    "    return x\n",
    "    x = (x - x_min) / binwidth\n",
    "    x = math.floor(x)\n",
    "    x = x * binwidth + x_min\n",
    "    return x"
   ]
  },
  {
   "cell_type": "markdown",
   "metadata": {},
   "source": [
    "## Dictator"
   ]
  },
  {
   "cell_type": "code",
   "execution_count": null,
   "metadata": {},
   "outputs": [],
   "source": [
    "df = pd.read_csv(os.path.join('data-archived', 'dictator.csv'))\n",
    "\n",
    "df = df[['UserID', 'Role', 'Round', 'Total', 'move', 'gameType']]\n",
    "df['UserID'] = df['UserID'].map(user_id_to_uuid)\n",
    "df['move'] = df['move'].map(lambda x: round_bin(x, x_min=0, x_max=100, binwidth=10))\n",
    "\n",
    "df.to_csv('data/dictator.csv', index=False)\n",
    "df.head(10)"
   ]
  },
  {
   "cell_type": "markdown",
   "metadata": {},
   "source": [
    "## Ultimatum"
   ]
  },
  {
   "cell_type": "code",
   "execution_count": null,
   "metadata": {},
   "outputs": [],
   "source": [
    "df = pd.read_csv(os.path.join('data-archived', 'ultimatum_strategy.csv'))\n",
    "\n",
    "df = df[['UserID', 'Role', 'Round', 'Total', 'move', 'gameType']]\n",
    "df['propose'] = df['move'].apply(lambda x: eval(x)[0])\n",
    "df['accept'] = df['move'].apply(lambda x: eval(x)[1])\n",
    "df['UserID'] = df['UserID'].map(user_id_to_uuid)\n",
    "df['move'] = df['move'].apply(lambda x: '[{}, {}]'.format(\n",
    "    round_bin(eval(x)[0], x_min=0, x_max=100, binwidth=10), \n",
    "    round_bin(eval(x)[1], x_min=0, x_max=100, binwidth=10)\n",
    "))\n",
    "\n",
    "df.to_csv('data/ultimatum_strategy.csv', index=False)\n",
    "df.head(10)"
   ]
  },
  {
   "cell_type": "markdown",
   "metadata": {},
   "source": [
    "## Trust"
   ]
  },
  {
   "cell_type": "code",
   "execution_count": null,
   "metadata": {},
   "outputs": [],
   "source": [
    "df = pd.read_csv(os.path.join('data-archived', 'trust_investment.csv'))\n",
    "df_copy = df.copy()\n",
    "\n",
    "df = df[['UserID', 'Role', 'Round', 'move', 'gameType', 'roundResult']]\n",
    "df['UserID'] = df['UserID'].map(user_id_to_uuid)\n",
    "\n",
    "df.loc[df['Role'] == 'first', 'move'] = df['move'].apply(lambda x: round_bin(x, x_min=0, x_max=100, binwidth=10))\n",
    "df.loc[df['Role'] == 'second', 'move'] = df['move'].apply(lambda x: round_bin(x, x_min=0, x_max=150, binwidth=10))\n",
    "df['roundResult'] = df['roundResult'].apply(lambda x: '[{}, {}]'.format(\n",
    "    eval(x)[0], # round_bin(eval(x)[0], x_min=0, x_max=100, binwidth=10), \n",
    "    round_bin(eval(x)[1], x_min=0, x_max=150, binwidth=10)\n",
    "))\n",
    "\n",
    "df.to_csv('data/trust_investment.csv', index=False)\n",
    "df.head(10)"
   ]
  },
  {
   "cell_type": "markdown",
   "metadata": {},
   "source": [
    "## Public Goods"
   ]
  },
  {
   "cell_type": "code",
   "execution_count": null,
   "metadata": {},
   "outputs": [],
   "source": [
    "df = pd.read_csv(os.path.join('data-archived', 'public_goods_linear_water.csv'))\n",
    "# df_copy = df.copy()\n",
    "\n",
    "df = df[['UserID', 'Role', 'Round', 'move', 'gameType', 'Total', 'groupSize']]\n",
    "df['UserID'] = df['UserID'].map(user_id_to_uuid)\n",
    "df['move'] = df['move'].apply(lambda x: round_bin(x, x_min=0, x_max=20, binwidth=2))\n",
    "\n",
    "df.to_csv('data/public_goods_linear_water.csv', index=False)\n",
    "df.head(10)"
   ]
  },
  {
   "cell_type": "markdown",
   "metadata": {},
   "source": [
    "## Bomb Risk"
   ]
  },
  {
   "cell_type": "code",
   "execution_count": null,
   "metadata": {},
   "outputs": [],
   "source": [
    "df = pd.read_csv(os.path.join('data-archived', 'bomb_risk.csv'))\n",
    "\n",
    "df = df[['UserID', 'Role', 'Round', 'move', 'gameType', 'roundResult']]\n",
    "df['UserID'] = df['UserID'].map(user_id_to_uuid)\n",
    "df['move'] = df['move'].apply(lambda x: round_bin(x, x_min=0, x_max=100, binwidth=10))\n",
    "\n",
    "df.to_csv('data/bomb_risk.csv', index=False)\n",
    "df.head(10)"
   ]
  },
  {
   "cell_type": "markdown",
   "metadata": {},
   "source": [
    "## Prisoner's Dilemma"
   ]
  },
  {
   "cell_type": "code",
   "execution_count": null,
   "metadata": {},
   "outputs": [],
   "source": [
    "df = pd.read_csv('data-archived/push_pull.csv')\n",
    "\n",
    "df = df[['UserID', 'Role', 'Round', 'move', 'gameType', 'roundResult', 'groupSize']]\n",
    "df['UserID'] = df['UserID'].map(user_id_to_uuid)\n",
    "\n",
    "df.to_csv('data/push_pull.csv', index=False)\n",
    "df.head(10)"
   ]
  }
 ],
 "metadata": {
  "kernelspec": {
   "display_name": "chatgpt",
   "language": "python",
   "name": "python3"
  },
  "language_info": {
   "codemirror_mode": {
    "name": "ipython",
    "version": 3
   },
   "file_extension": ".py",
   "mimetype": "text/x-python",
   "name": "python",
   "nbconvert_exporter": "python",
   "pygments_lexer": "ipython3",
   "version": "3.8.16"
  },
  "orig_nbformat": 4
 },
 "nbformat": 4,
 "nbformat_minor": 2
}
