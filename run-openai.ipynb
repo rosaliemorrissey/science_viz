{
 "cells": [
  {
   "attachments": {},
   "cell_type": "markdown",
   "metadata": {},
   "source": [
    "## Import and Configuration\n",
    "\n",
    "https://platform.openai.com/"
   ]
  },
  {
   "cell_type": "code",
   "execution_count": null,
   "metadata": {},
   "outputs": [],
   "source": [
    "import os\n",
    "import re\n",
    "import csv\n",
    "import copy\n",
    "import json\n",
    "import math\n",
    "import openai\n",
    "import numpy as np\n",
    "import pandas as pd\n",
    "import seaborn as sns\n",
    "import matplotlib.pyplot as plt\n",
    "from tqdm import tqdm\n",
    "from scipy import stats\n",
    "from datetime import datetime\n",
    "from collections import defaultdict, Counter\n",
    "from matplotlib.colors import ListedColormap"
   ]
  },
  {
   "cell_type": "code",
   "execution_count": null,
   "metadata": {},
   "outputs": [],
   "source": [
    "### Configurations\n",
    "\n",
    "TIME_LIMIT = 60 # seconds\n",
    "\n",
    "DEFAULT_SYS_MSG = \"You are a helpful assistant.\"\n",
    "SYS_MSG = DEFAULT_SYS_MSG\n",
    "\n",
    "MODEL = 'gpt4'\n",
    "USE_CHAT = True\n",
    "\n",
    "def switch_model(model):\n",
    "    if model == 'turbo': model = 'gpt-3.5-turbo-0301'\n",
    "    if model == 'turbo-0613': model = 'gpt-3.5-turbo-0613'\n",
    "    if model == 'turbo-1106': model = 'gpt-3.5-turbo-1106'\n",
    "    if model == 'gpt3': model = 'text-davinci-003'\n",
    "    if model == 'gpt4': model = 'gpt-4-0314'\n",
    "    if model == 'gpt4-0613': model = 'gpt-4-0613'\n",
    "    if model == 'gpt4-1106': model = 'gpt-4-1106-preview'\n",
    "\n",
    "    global MODEL, USE_CHAT\n",
    "    MODEL = model\n",
    "    if 'gpt-4' in model:\n",
    "        openai.api_key = 'YOUR_API_KEY'\n",
    "    else: \n",
    "        openai.api_key = 'YOUR_API_KEY'\n",
    "\n",
    "    if 'text' in model:\n",
    "        USE_CHAT = False\n",
    "    else:\n",
    "        USE_CHAT = True\n",
    "\n",
    "switch_model('gpt4')"
   ]
  },
  {
   "cell_type": "code",
   "execution_count": null,
   "metadata": {},
   "outputs": [],
   "source": [
    "import signal\n",
    "from contextlib import contextmanager\n",
    "\n",
    "class TimeoutException(Exception): pass\n",
    "\n",
    "@contextmanager\n",
    "def time_limit(seconds):\n",
    "    def signal_handler(signum, frame):\n",
    "        raise TimeoutException(\"Timed out!\")\n",
    "    signal.signal(signal.SIGALRM, signal_handler)\n",
    "    signal.alarm(seconds)\n",
    "    try:\n",
    "        yield\n",
    "    finally:\n",
    "        signal.alarm(0)\n"
   ]
  },
  {
   "attachments": {},
   "cell_type": "markdown",
   "metadata": {},
   "source": [
    "## Functions"
   ]
  },
  {
   "attachments": {},
   "cell_type": "markdown",
   "metadata": {},
   "source": [
    "### Run"
   ]
  },
  {
   "cell_type": "code",
   "execution_count": null,
   "metadata": {},
   "outputs": [],
   "source": [
    "def get_response(\n",
    "    messages: list = [],\n",
    "    model=None,\n",
    "    use_chat=None,\n",
    "    **kwargs\n",
    ") -> dict:\n",
    "    if model is None: model = MODEL\n",
    "    if use_chat is None: use_chat = USE_CHAT\n",
    "    # print('model:', model, MODEL)\n",
    "    with time_limit(TIME_LIMIT):\n",
    "        if use_chat:\n",
    "            response = openai.ChatCompletion.create(\n",
    "                model=model,\n",
    "                messages=messages,\n",
    "                **kwargs\n",
    "            ).to_dict_recursive()\n",
    "        else:\n",
    "            prompt = '\\n\\n'.join([x['content'] for x in messages]) + '\\n\\n'\n",
    "            response = openai.Completion.create(\n",
    "                model=model,\n",
    "                prompt=prompt,\n",
    "                max_tokens=100,\n",
    "                **kwargs\n",
    "            ).to_dict_recursive()\n",
    "\n",
    "    return response\n",
    "\n",
    "def update_messages(\n",
    "    messages, \n",
    "    responses, \n",
    "    prompt,\n",
    "    **kwargs\n",
    "):\n",
    "    messages.append(\n",
    "        {\"role\": \"user\", \"content\": prompt}\n",
    "    )\n",
    "    response = get_response(messages, **kwargs)\n",
    "    responses.append(response)\n",
    "    messages.append(\n",
    "        response['choices'][0]['message'] if USE_CHAT else {\n",
    "            'role': 'assistant',\n",
    "            'content': response['choices'][0]['text']\n",
    "        }\n",
    "    )"
   ]
  },
  {
   "cell_type": "code",
   "execution_count": null,
   "metadata": {},
   "outputs": [],
   "source": [
    "def run_one_session(\n",
    "    prompts=[], \n",
    "    n_instances=30, \n",
    "    print_except=True,\n",
    "    orders=None,\n",
    "    tqdm_silent=False,\n",
    "    **kwargs\n",
    "):\n",
    "    # global records\n",
    "    records = {\n",
    "        'messages' : [],\n",
    "        'responses' : [],\n",
    "    }\n",
    "    if orders is None:\n",
    "        orders = [list(range(len(prompts)))] * n_instances\n",
    "    with tqdm(total=n_instances, disable=tqdm_silent) as pbar:\n",
    "        i = 0\n",
    "        while i < n_instances:\n",
    "        # while pbar.n < n_instances:\n",
    "            try:\n",
    "                responses = []\n",
    "                messages = [\n",
    "                    {\"role\": \"system\", \"content\": SYS_MSG},\n",
    "                ]\n",
    "                for prompt_id in orders[i]:\n",
    "                # for prompt_id in orders[pbar.n]:\n",
    "                    prompt = prompts[prompt_id]\n",
    "                    update_messages(\n",
    "                        messages, \n",
    "                        responses, \n",
    "                        prompt,\n",
    "                        **kwargs\n",
    "                    )\n",
    "                records['messages'].append(messages)\n",
    "                records['responses'].append(responses)\n",
    "\n",
    "                i += 1\n",
    "                # pbar.update(1)\n",
    "                \n",
    "            except Exception as e: \n",
    "                if print_except: print(e)\n",
    "                continue\n",
    "    return records"
   ]
  },
  {
   "attachments": {},
   "cell_type": "markdown",
   "metadata": {},
   "source": [
    "### Extract "
   ]
  },
  {
   "cell_type": "code",
   "execution_count": null,
   "metadata": {},
   "outputs": [],
   "source": [
    "def extract_brackets(text, brackets='[]'):\n",
    "    assert len(brackets) == 2\n",
    "    pattern = re.escape(brackets[0]) + r'(.*?)' + re.escape(brackets[1])\n",
    "    matches = re.findall(pattern, text)\n",
    "    return matches\n",
    "\n",
    "def extract_amout(\n",
    "    message, \n",
    "    prefix='',\n",
    "    print_except=True,\n",
    "    type=float,\n",
    "    brackets='[]'\n",
    "):\n",
    "    try:\n",
    "        matches = extract_brackets(message, brackets=brackets)\n",
    "        matches = [s.replace(' ', '') for s in matches]\n",
    "        matches = [s[len(prefix):] \\\n",
    "            if s.startswith(prefix) \\\n",
    "            else s for s in matches]\n",
    "        invalid = False\n",
    "        if len(matches) == 0:\n",
    "            invalid = True\n",
    "        for i in range(len(matches)):\n",
    "            if matches[i] != matches[0]:\n",
    "                invalid = True\n",
    "        if invalid:\n",
    "            raise ValueError('Invalid answer: %s' % message)\n",
    "        return type(matches[0])\n",
    "    except Exception as e: \n",
    "        if print_except: print(e)\n",
    "        return None\n",
    "\n",
    "def extract_choices(records):\n",
    "    choices = [extract_amout(\n",
    "        messages[-1]['content'], \n",
    "        prefix='$', \n",
    "        print_except=True,\n",
    "        type=float) for messages in records['messages']\n",
    "    ]\n",
    "    choices = [x for x in choices if x is not None]\n",
    "    # print(choices)\n",
    "    return choices"
   ]
  },
  {
   "cell_type": "code",
   "execution_count": null,
   "metadata": {},
   "outputs": [],
   "source": [
    "def extract_chatgpt(\n",
    "    message, \n",
    "    extractor,\n",
    "    print_except=True,\n",
    "    type=float,\n",
    "):\n",
    "    prompts = [extractor(message)]\n",
    "    records = run_one_session(\n",
    "        prompts, \n",
    "        n_instances=1, \n",
    "        print_except=print_except,\n",
    "        tqdm_silent=True,\n",
    "        use_chat=True,\n",
    "        model='gpt-3.5-turbo-0301',\n",
    "    )\n",
    "    extracted = records['messages'][0][-1]['content']\n",
    "    extracted = extracted.replace(' ', '')\n",
    "    try:\n",
    "        if 'None' in extracted:\n",
    "            raise ValueError('Invalid answer: %s' % message)\n",
    "        extracted = type(extracted)\n",
    "    except Exception as e:\n",
    "        if print_except: \n",
    "            raise e\n",
    "        extracted = None\n",
    "    return extracted"
   ]
  },
  {
   "attachments": {},
   "cell_type": "markdown",
   "metadata": {},
   "source": [
    "### Test and Save"
   ]
  },
  {
   "cell_type": "code",
   "execution_count": null,
   "metadata": {},
   "outputs": [],
   "source": [
    "def unit_test(\n",
    "    records=None, \n",
    "    n_instances=1, \n",
    "    run_func=lambda x: run_one_session(prompts, n_instances=x),\n",
    "):\n",
    "    if records is None:\n",
    "        records = run_func(n_instances)\n",
    "    for i, messages in enumerate(records['messages']):\n",
    "        print('===== Instance #%i' % i)\n",
    "        for item in messages:\n",
    "            if item['role'] != 'assistant': continue\n",
    "            print('> ', item['content'])"
   ]
  },
  {
   "cell_type": "code",
   "execution_count": null,
   "metadata": {},
   "outputs": [],
   "source": [
    "# prompts = [\n",
    "#     'Hi, let’s play a game. ',\n",
    "#     'You are paired with another player. Your role is to decide how to divide $100 and the other player simply receives your choice. How would you like to divide the money? Please give only one concrete choice and highlight the amount you give to the other player in [] (such as [$x]). ',\n",
    "# ]\n",
    "\n",
    "# unit_test(n_instances=1)"
   ]
  },
  {
   "cell_type": "code",
   "execution_count": null,
   "metadata": {},
   "outputs": [],
   "source": [
    "def save_records(game_name, records):\n",
    "    timestamp = datetime.now().strftime(\"%Y_%m_%d-%I_%M_%S_%p\")\n",
    "    file_name = '%s_%s.json' % (game_name, timestamp)\n",
    "\n",
    "    with open(os.path.join('records', file_name), 'w') as f:\n",
    "        json.dump(records, f)"
   ]
  },
  {
   "attachments": {},
   "cell_type": "markdown",
   "metadata": {},
   "source": [
    "### Plot"
   ]
  },
  {
   "cell_type": "code",
   "execution_count": null,
   "metadata": {},
   "outputs": [],
   "source": [
    "def choices_to_df(choices, hue):\n",
    "    df = pd.DataFrame(choices, columns=['choices'])\n",
    "    df['hue'] = hue\n",
    "    df['hue'] = df['hue'].astype(str)\n",
    "    return df\n",
    "\n",
    "def plot(\n",
    "        df, \n",
    "        title='',\n",
    "        x='choices',\n",
    "        hue='hue',\n",
    "        binrange=None, \n",
    "        binwidth=None,\n",
    "        stat='count',\n",
    "        multiple='dodge'\n",
    "    ):\n",
    "    if binrange is None:\n",
    "        binrange = (df[x].min(), df[x].max())\n",
    "    df = df.dropna(axis=0, subset=[x]).reset_index()\n",
    "    plt.figure(figsize=(8, 6))\n",
    "    ax = sns.histplot(\n",
    "        data=df, \n",
    "        x=x,\n",
    "        hue=hue, \n",
    "        kde=True,\n",
    "        binrange=binrange, \n",
    "        binwidth=binwidth,\n",
    "        stat=stat,\n",
    "        multiple=multiple,\n",
    "        shrink=.8,\n",
    "    )\n",
    "    ax.set_title(title)\n",
    "    return ax\n",
    "\n",
    "def plot_facet(\n",
    "    df_list,\n",
    "    x='choices',\n",
    "    hue='hue',\n",
    "    binrange=None,\n",
    "    binwidth=10,\n",
    "    stat='count',\n",
    "    x_label='',\n",
    "    sharex=True,\n",
    "    sharey=False,\n",
    "):\n",
    "    data = pd.concat(df_list)\n",
    "    if binrange is None:\n",
    "        binrange = (data[x].min(), data[x].max())\n",
    "    g = sns.FacetGrid(\n",
    "        data, row=hue, hue=hue, \n",
    "        aspect=3, height=2, \n",
    "        sharex=sharex, sharey=sharey,\n",
    "        despine=False\n",
    "    )\n",
    "    g.map_dataframe(\n",
    "        sns.histplot, \n",
    "        x=x, \n",
    "        kde=True, \n",
    "        binrange=binrange, \n",
    "        binwidth=binwidth,\n",
    "        stat=stat,\n",
    "    )\n",
    "    # g.add_legend(title='hue')\n",
    "    g.set_axis_labels(x_label, stat)\n",
    "    return g"
   ]
  },
  {
   "attachments": {},
   "cell_type": "markdown",
   "metadata": {},
   "source": [
    "### Occupations"
   ]
  },
  {
   "cell_type": "code",
   "execution_count": null,
   "metadata": {},
   "outputs": [],
   "source": [
    "# OCCUPATIONS = ['mathematician', 'public relations specialist', 'journalist', 'investment fund manager', 'game theorist', 'teacher', 'politician']\n",
    "OCCUPATIONS = {\n",
    "    'mathematician': {\n",
    "        'core' : [\n",
    "            'Address the relationships of quantities, magnitudes, and forms through the use of numbers and symbols.',\n",
    "            'Disseminate research by writing reports, publishing papers, or presenting at professional conferences.',\n",
    "            'Maintain knowledge in the field by reading professional journals, talking with other mathematicians, and attending professional conferences.',\n",
    "            'Apply mathematical theories and techniques to the solution of practical problems in business, engineering, the sciences, or other fields.',\n",
    "            'Conduct research to extend mathematical knowledge in traditional areas, such as algebra, geometry, probability, and logic.',\n",
    "            'Develop mathematical or statistical models of phenomena to be used for analysis or for computational simulation.',\n",
    "            'Perform computations and apply methods of numerical analysis to data.',\n",
    "            'Assemble sets of assumptions, and explore the consequences of each set.',\n",
    "            'Develop new principles and new relationships between existing mathematical principles to advance mathematical science.',\n",
    "            'Develop computational methods for solving problems that occur in areas of science and engineering or that come from applications in business or industry.',\n",
    "        ],\n",
    "        'supplemental': [\n",
    "            'Design, analyze, and decipher encryption systems designed to transmit military, political, financial, or law-enforcement-related information in code.',\n",
    "        ]\n",
    "    },\n",
    "    'public relations specialist': {\n",
    "        'core': [\n",
    "            'Respond to requests for information from the media or designate an appropriate spokesperson or information source.',\n",
    "            'Plan or direct development or communication of programs to maintain favorable public or stockholder perceptions of an organization\\'s accomplishments, agenda, or environmental responsibility.',\n",
    "            'Post and update content on the company\\'s Web site and social media outlets.',\n",
    "            'Write press releases or other media communications to promote clients.',\n",
    "            'Establish or maintain cooperative relationships with representatives of community, consumer, employee, or public interest groups.',\n",
    "            'Confer with other managers to identify trends or key group interests or concerns or to provide advice on business decisions.',\n",
    "            'Coach client representatives in effective communication with the public or with employees.',\n",
    "            'Study the objectives, promotional policies, or needs of organizations to develop public relations strategies that will influence public opinion or promote ideas, products, or services.',\n",
    "            'Prepare or edit organizational publications, such as employee newsletters or stockholders\\' reports, for internal or external audiences.',\n",
    "            'Arrange public appearances, lectures, contests, or exhibits for clients to increase product or service awareness or to promote goodwill.',\n",
    "            'Plan or conduct market or public opinion research to test products or determine potential for product success, communicating results to client or management.',\n",
    "            'Develop plans or materials to communicate organizational activities that are beneficial to the environment, public safety, or other important social issues.',\n",
    "            'Confer with production or support personnel to produce or coordinate production of advertisements or promotions.',\n",
    "            'Consult with advertising agencies or staff to arrange promotional campaigns in all types of media for products, organizations, or individuals.',\n",
    "            'Prepare or deliver speeches to further public relations objectives.',\n",
    "        ],\n",
    "        'supplemental': [\n",
    "            'Coordinate public responses to environmental management incidents or conflicts.',\n",
    "            'Develop marketing campaigns for environmental technologies or services.',\n",
    "            'Purchase advertising space or time as required to promote client\\'s product or agenda.',\n",
    "        ]\n",
    "    },\n",
    "    'journalist': {\n",
    "        'core': [\n",
    "            'Write commentaries, columns, or scripts, using computers.',\n",
    "            'Coordinate and serve as an anchor on news broadcast programs.',\n",
    "            'Examine news items of local, national, and international significance to determine topics to address, or obtain assignments from editorial staff members.',\n",
    "            'Analyze and interpret news and information received from various sources to broadcast the information.',\n",
    "            'Receive assignments or evaluate leads or tips to develop story ideas.',\n",
    "            'Research a story\\'s background information to provide complete and accurate information.',\n",
    "            'Arrange interviews with people who can provide information about a story.',\n",
    "            'Gather information and develop perspectives about news subjects through research, interviews, observation, and experience.',\n",
    "            'Select material most pertinent to presentation, and organize this material into appropriate formats.',\n",
    "            'Present news stories, and introduce in-depth videotaped segments or live transmissions from on-the-scene reporters.',\n",
    "            'Establish and maintain relationships with individuals who are credible sources of information.',\n",
    "            'Report news stories for publication or broadcast, describing the background and details of events.',\n",
    "            'Revise work to meet editorial approval or to fit time or space requirements.',\n",
    "            'Review and evaluate notes taken about news events to isolate pertinent facts and details.',\n",
    "            'Investigate breaking news developments, such as disasters, crimes, or human-interest stories.',\n",
    "            'Review written, audio, or video copy, and correct errors in content, grammar, or punctuation, following prescribed editorial style and formatting guidelines.',\n",
    "            'Report on specialized fields such as medicine, green technology, environmental issues, science, politics, sports, arts, consumer affairs, business, religion, crime, or education.',\n",
    "            'Determine a published or broadcasted story\\'s emphasis, length, and format, organizing material accordingly.',\n",
    "            'Transmit news stories or reporting information from remote locations, using equipment such as satellite phones, telephones, fax machines, or modems.',\n",
    "            'Check reference materials, such as books, news files, or public records, to obtain relevant facts.',\n",
    "            'Discuss issues with editors to establish priorities or positions.',\n",
    "            'Photograph or videotape news events.',\n",
    "            'Present live or recorded commentary via broadcast media.',\n",
    "            'Take pictures or video, and process them for inclusion in a story.',\n",
    "            'Conduct taped or filmed interviews or narratives.',\n",
    "            'Develop ideas or material for columns or commentaries by analyzing and interpreting news, current issues, or personal experiences.',\n",
    "            'Communicate with readers, viewers, advertisers, or the general public via mail, email, or telephone.',\n",
    "            'Write online blog entries that address news developments or offer additional information, opinions, or commentary on news events.',\n",
    "            'Assign stories to other reporters or duties to production staff.',\n",
    "            'Write columns, editorials, commentaries, or reviews that interpret events or offer opinions.',\n",
    "        ],\n",
    "    },\n",
    "    'investment fund manager': {\n",
    "        'core': [\n",
    "            'Manage investment funds to maximize return on client investments.',\n",
    "            'Select specific investments or investment mixes for purchase by an investment fund.',\n",
    "            'Monitor financial or operational performance of individual investments to ensure portfolios meet risk goals.',\n",
    "            'Select or direct the execution of trades.',\n",
    "            'Develop or implement fund investment policies or strategies.',\n",
    "            'Perform or evaluate research, such as detailed company or industry analyses, to inform financial forecasting, decision making, or valuation.',\n",
    "            'Present investment information, such as product risks, fees, or fund performance statistics.',\n",
    "            'Develop, implement, or monitor security valuation policies.',\n",
    "            'Meet with investors to determine investment goals or to discuss investment strategies.',\n",
    "            'Attend investment briefings or consult financial media to stay abreast of relevant investment markets.',\n",
    "            'Prepare for and respond to regulatory inquiries.',\n",
    "            'Evaluate the potential of new product developments or market opportunities, according to factors such as business plans, technologies, or market potential.',\n",
    "            'Hire or evaluate staff.',\n",
    "            'Monitor regulatory or tax law changes to ensure fund compliance or to capitalize on development opportunities.',\n",
    "            'Develop or direct development of offering documents or marketing materials.',\n",
    "        ],\n",
    "        'supplemental': [\n",
    "            'Analyze acquisitions to ensure conformance with strategic goals or regulatory requirements.',\n",
    "            'Verify regulatory compliance of transaction reporting.',\n",
    "            'Review offering documents or marketing materials to ensure regulatory compliance.',\n",
    "            'Identify group or individual target investors for a specific fund.',\n",
    "            'Direct activities of accounting or operations departments.',\n",
    "        ]\n",
    "    },\n",
    "    'economist': {\n",
    "        'core': [\n",
    "            'Study economic and statistical data in area of specialization, such as finance, labor, or agriculture.',\n",
    "            'Conduct research on economic issues, and disseminate research findings through technical reports or scientific articles in journals.',\n",
    "            'Compile, analyze, and report data to explain economic phenomena and forecast market trends, applying mathematical models and statistical techniques.',\n",
    "            'Supervise research projects and students\\' study projects.',\n",
    "            'Teach theories, principles, and methods of economics.',\n",
    "            'Study the socioeconomic impacts of new public policies, such as proposed legislation, taxes, services, and regulations.',\n",
    "            'Formulate recommendations, policies, or plans to solve economic problems or to interpret markets.',\n",
    "            'Explain economic impact of policies to the public.',\n",
    "            'Provide advice and consultation on economic relationships to businesses, public and private agencies, and other employers.',\n",
    "            'Forecast production and consumption of renewable resources and supply, consumption, and depletion of non-renewable resources.',\n",
    "            'Develop economic guidelines and standards, and prepare points of view used in forecasting trends and formulating economic policy.',\n",
    "        ],\n",
    "        'supplemental': [\n",
    "            'Testify at regulatory or legislative hearings concerning the estimated effects of changes in legislation or public policy, and present recommendations based on cost-benefit analyses.',\n",
    "            'Provide litigation support, such as writing reports for expert testimony or testifying as an expert witness.',\n",
    "        ]\n",
    "    },\n",
    "    'legislator': {\n",
    "        'core': [\n",
    "            'Analyze and understand the local and national implications of proposed legislation.',\n",
    "            'Appoint nominees to leadership posts, or approve such appointments.',\n",
    "            'Confer with colleagues to formulate positions and strategies pertaining to pending issues.',\n",
    "            'Debate the merits of proposals and bill amendments during floor sessions, following the appropriate rules of procedure.',\n",
    "            'Develop expertise in subject matters related to committee assignments.',\n",
    "            'Hear testimony from constituents, representatives of interest groups, board and commission members, and others with an interest in bills or issues under consideration.',\n",
    "            'Keep abreast of the issues affecting constituents by making personal visits and phone calls, reading local newspapers, and viewing or listening to local broadcasts.',\n",
    "            'Maintain knowledge of relevant national and international current events.',\n",
    "            'Make decisions that balance the perspectives of private citizens, public officials, and party leaders.',\n",
    "            'Negotiate with colleagues or members of other political parties in order to reconcile differing interests, and to create policies and agreements.',\n",
    "            'Prepare drafts of amendments, government policies, laws, rules, regulations, budgets, programs and procedures.',\n",
    "            'Read and review concerns of constituents or the general public and determine if governmental action is necessary.',\n",
    "            'Represent their parties in negotiations with political executives or members of other parties, and when speaking with the media.',\n",
    "            'Review bills in committee, and make recommendations about their future.',\n",
    "            'Seek federal funding for local projects and programs.',\n",
    "            'Serve on commissions, investigative panels, study groups, and committees in order to examine specialized areas and recommend action.',\n",
    "            'Vote on motions, amendments, and decisions on whether or not to report a bill out from committee to the assembly floor.',\n",
    "            'Write, prepare, and deliver statements for the Congressional Record.',\n",
    "            'Alert constituents of government actions and programs by way of newsletters, personal appearances at town meetings, phone calls, and individual meetings.',\n",
    "            'Attend receptions, dinners, and conferences to meet people, exchange views and information, and develop working relationships.',\n",
    "            'Conduct \"head counts\" to help predict the outcome of upcoming votes.',\n",
    "            'Determine campaign strategies for media advertising, positions on issues, and public appearances.',\n",
    "            'Encourage and support party candidates for political office.',\n",
    "            'Establish personal offices in local districts or states, and manage office staff.',\n",
    "            'Evaluate the structure, efficiency, activities, and performance of government agencies.',\n",
    "            'Organize and maintain campaign organizations and fundraisers, in order to raise money for election or re-election.',\n",
    "            'Oversee expense allowances, ensuring that accounts are balanced at the end of each fiscal year.',\n",
    "            'Promote the industries and products of their electoral districts.',\n",
    "            'Represent their government at local, national, and international meetings and conferences.',\n",
    "            'Speak to students to encourage and support the development of future political leaders.',\n",
    "        ],\n",
    "    },\n",
    "}"
   ]
  },
  {
   "cell_type": "code",
   "execution_count": null,
   "metadata": {},
   "outputs": [],
   "source": [
    "occupation = 'mathematician'\n",
    "prompt = '''You are a {}.\\n\n",
    "Your core tasks include:\\n* {}'\n",
    "'''.format(\n",
    "    occupation, \n",
    "    '\\n* '.join(OCCUPATIONS[occupation]['core']), \n",
    ") + ('''\\n\\nYour supplemental tasks include:\\n* {}\n",
    "'''.format(\n",
    "    '\\n* '.join(OCCUPATIONS[occupation]['supplemental'])\n",
    ") if 'supplemental' in OCCUPATIONS[occupation] else '')\n",
    "print(prompt)"
   ]
  },
  {
   "cell_type": "code",
   "execution_count": null,
   "metadata": {},
   "outputs": [],
   "source": [
    "def run_occupations(\n",
    "    occupations=OCCUPATIONS,\n",
    "    run_func=run_one_session,\n",
    "    extract_func=extract_choices,\n",
    "    **kwargs,\n",
    "):\n",
    "    global SYS_MSG\n",
    "    global records_all\n",
    "    global choices_all\n",
    "    records_all = {}\n",
    "    choices_all = {}\n",
    "    for occupation in occupations:\n",
    "        print('occupation: ', occupation)\n",
    "        \n",
    "        # SYS_MSG = 'You are a %s. ' % occupation\n",
    "        SYS_MSG = '''You are a {}.\\n\n",
    "        Your core tasks include:\\n* {}'\n",
    "        '''.format(\n",
    "            occupation, \n",
    "            '\\n* '.join(OCCUPATIONS[occupation]['core']), \n",
    "        ) + ('''\\n\\nYour supplemental tasks include:\\n* {}\n",
    "        '''.format(\n",
    "            '\\n* '.join(OCCUPATIONS[occupation]['supplemental'])\n",
    "        ) if 'supplemental' in OCCUPATIONS[occupation] else '')\n",
    "\n",
    "        records = run_func(**kwargs)\n",
    "\n",
    "        choices = extract_func(records)\n",
    "        choices_all[occupation] = choices\n",
    "        records_all[occupation] = records\n",
    "    return records_all, choices_all"
   ]
  },
  {
   "cell_type": "code",
   "execution_count": null,
   "metadata": {},
   "outputs": [],
   "source": [
    "def plot_occupations(\n",
    "    df_baseline,\n",
    "    choices_all,\n",
    "    binrange=(0,100),\n",
    "    binwidth=5,\n",
    "    x_label='$ to give',\n",
    "    stat='density',\n",
    "):\n",
    "    print('baseline: ', len(df_baseline))\n",
    "    df_list = []\n",
    "    for occupation in choices_all:\n",
    "        choices = choices_all[occupation]\n",
    "        print(occupation, ':', len(choices))\n",
    "        df = choices_to_df(choices, hue=occupation)\n",
    "        df_list.append(df)\n",
    "    plot_facet(\n",
    "        df_list=[df_baseline]+df_list,\n",
    "        binrange=binrange,\n",
    "        binwidth=binwidth,\n",
    "        x_label=x_label,\n",
    "        stat=stat,\n",
    "    )"
   ]
  },
  {
   "cell_type": "markdown",
   "metadata": {},
   "source": [
    "## Big Five Test"
   ]
  },
  {
   "cell_type": "code",
   "execution_count": null,
   "metadata": {},
   "outputs": [],
   "source": [
    "questions = {}\n",
    "with open('data/bigfive.tsv', 'r') as tsvfile:\n",
    "    reader = csv.reader(tsvfile, delimiter='\\t')\n",
    "    for row in reader:\n",
    "        questions[row[0]] = row[1]\n",
    "\n",
    "keyed = {}\n",
    "indices = defaultdict(int)\n",
    "dimensions = 'EACNO'\n",
    "with open('data/bigfive_IPIP.tsv', 'r') as tsvfile:\n",
    "    reader = csv.reader(tsvfile, delimiter='\\t')\n",
    "    for row in reader:\n",
    "        d = dimensions[int(row[-1][1])-1]\n",
    "        v = row[-1][2]\n",
    "        indices[d] += 1\n",
    "        k = '%s%i' % (d, indices[d])\n",
    "        keyed[k] = v"
   ]
  },
  {
   "cell_type": "code",
   "execution_count": null,
   "metadata": {},
   "outputs": [],
   "source": [
    "def run_bigfive(\n",
    "    n_instances=30, \n",
    "    print_except=False,\n",
    "):\n",
    "    global records\n",
    "    records = {\n",
    "        'messages' : [],\n",
    "        'responses' : [],\n",
    "        'choices' : [],\n",
    "    }\n",
    "    cnt_invalid = {}\n",
    "    for _ in range(n_instances):\n",
    "        messages = [\n",
    "            {\"role\": \"system\", \"content\": ''},\n",
    "        ]\n",
    "        responses = []\n",
    "        choices = []\n",
    "        for i, q in tqdm(questions.items()):\n",
    "            prompt = 'The following item was rated on a five point scale where 1=Disagree, 2=Partially Disagree, 3=Neutral, 4=Partially Agree, 5=Agree. Please select how the statement describes you and highlight your answer in [] (such as [1], [2], [3], [4], or [5]). \\n' + q\n",
    "            \n",
    "            while True:\n",
    "                try:\n",
    "                    messages_copy = messages.copy()\n",
    "                    responses_copy = responses.copy()\n",
    "                    update_messages(messages, responses, prompt)\n",
    "                    choice = extract_amout(\n",
    "                        messages[-1]['content'], \n",
    "                        print_except=print_except,\n",
    "                        type=int\n",
    "                    )\n",
    "                    if choice is None or \\\n",
    "                        choice < 1 or choice > 5:\n",
    "                        raise ValueError(\n",
    "                            'Invalid answer: %s' % messages[-1]['content'])\n",
    "                    choices.append(choice)\n",
    "                    records['messages'].append(messages)\n",
    "                    records['responses'].append(responses)\n",
    "                    messages = messages_copy\n",
    "                    responses = responses_copy\n",
    "                    break\n",
    "                except Exception as e: \n",
    "                    cnt_invalid[q] = cnt_invalid.get(q, 0) + 1\n",
    "                    if print_except: print(e)\n",
    "                    messages = messages_copy\n",
    "                    responses = responses_copy\n",
    "                    continue\n",
    "        records['messages'].append(messages)\n",
    "        records['responses'].append(responses)\n",
    "        records['choices'].append(choices)\n",
    "    print('cnt_invalid:', cnt_invalid)\n",
    "    return records"
   ]
  },
  {
   "cell_type": "code",
   "execution_count": null,
   "metadata": {},
   "outputs": [],
   "source": [
    "switch_model('turbo')\n",
    "records = run_bigfive(n_instances=30, print_except=False)\n",
    "save_records('bigfive_turbo', records=records)"
   ]
  },
  {
   "cell_type": "code",
   "execution_count": null,
   "metadata": {},
   "outputs": [],
   "source": [
    "switch_model('gpt4')\n",
    "records = run_bigfive(n_instances=30, print_except=False)\n",
    "save_records('bigfive_gpt4', records=records)"
   ]
  },
  {
   "attachments": {},
   "cell_type": "markdown",
   "metadata": {},
   "source": [
    "## Games\n",
    "\n",
    "### Dictator Game (1 session, 2 prompts)\n"
   ]
  },
  {
   "cell_type": "code",
   "execution_count": null,
   "metadata": {},
   "outputs": [],
   "source": [
    "prompts = [\n",
    "    'Hi, let’s play a game. ',\n",
    "    'You are paired with another player. Your role is to decide how to divide $100 and the other player simply receives your choice. How would you like to divide the money? Please give only one concrete choice and highlight the amount you give to the other player in [] (such as [$x]). ',\n",
    "]\n",
    "\n",
    "unit_test()"
   ]
  },
  {
   "cell_type": "code",
   "execution_count": null,
   "metadata": {},
   "outputs": [],
   "source": [
    "switch_model('gpt-4-0314')\n",
    "# records = run_one_session(prompts, n_instances=30)\n",
    "# save_records(game_name='dictator_gpt4', records=records)\n",
    "choices = [50.0, 50.0, 50.0, 50.0, 50.0, 50.0, 50.0, 50.0, 50.0, 50.0, 50.0, 50.0, 50.0, 50.0, 50.0, 50.0, 50.0, 50.0, 50.0, 50.0, 50.0, 50.0, 50.0, 50.0, 50.0, 50.0, 50.0, 50.0, 50.0, 50.0]\n",
    "df_dictator_gpt4 = choices_to_df(choices, hue=str('%s, w/o explanation' % MODEL))"
   ]
  },
  {
   "cell_type": "code",
   "execution_count": null,
   "metadata": {},
   "outputs": [],
   "source": [
    "records = json.load(open('records/dictator_gpt4_2023_04_05-04_34_28_AM.json', 'r'))\n",
    "choices = extract_choices(records)\n",
    "print(', '.join([str(x) for x in choices]))"
   ]
  },
  {
   "attachments": {},
   "cell_type": "markdown",
   "metadata": {},
   "source": [
    "#### Different Models"
   ]
  },
  {
   "cell_type": "code",
   "execution_count": null,
   "metadata": {},
   "outputs": [],
   "source": [
    "switch_model('gpt-3.5-turbo-0301')\n",
    "# records = run_one_session(prompts, n_instances=300)\n",
    "# save_records(game_name='dictator_wo_ex', records=records)\n",
    "choices = [25, 35, 70, 30, 20, 25, 40, 80, 30, 30, 40, 30, 30, 30, 30, 30, 40, 40, 30, 30, 40, 30, 60, 20, 40, 25, 30, 30, 30]\n",
    "df_dictator_wo_ex = choices_to_df(choices, hue=str('%s, w/o explanation' % MODEL))\n",
    "\n",
    "switch_model('text-davinci-003')\n",
    "# records = run_one_session(prompts, n_instances=30)\n",
    "# save_records(game_name='dictator_gpt3', records=records)\n",
    "choices = [50.0, 50.0, 50.0, 50.0, 50.0, 50.0, 60.0, 50.0, 70.0, 50.0, 50.0, 70.0, 50.0, 50.0, 75.0, 50.0] + [60, 70, 50, 50, 50, 50, 50, 75, 60, 45, 50, 60, 50, 50]\n",
    "df_dictator_gpt3 = choices_to_df(choices, hue=str('%s, w/o explanation' % MODEL))"
   ]
  },
  {
   "cell_type": "code",
   "execution_count": null,
   "metadata": {},
   "outputs": [],
   "source": [
    "records = json.load(open('records/dictator_wo_ex_2023_03_31-10_21_50_PM.json', 'r'))\n",
    "choices = extract_choices(records)\n",
    "print(', '.join([str(x) for x in choices]))"
   ]
  },
  {
   "attachments": {},
   "cell_type": "markdown",
   "metadata": {},
   "source": [
    "#### Different Roles"
   ]
  },
  {
   "cell_type": "code",
   "execution_count": null,
   "metadata": {},
   "outputs": [],
   "source": [
    "switch_model('gpt4')\n",
    "records_all, choices_all = run_occupations(prompts, n_instances=30)\n",
    "save_records(game_name='dictator_gpt4_occupations_described', records=[records_all, choices_all])"
   ]
  },
  {
   "cell_type": "code",
   "execution_count": null,
   "metadata": {},
   "outputs": [],
   "source": [
    "switch_model('turbo')\n",
    "records_all, choices_all = run_occupations(prompts=prompts, n_instances=30)\n",
    "save_records(game_name='dictator_turbo_occupations_described', records=[records_all, choices_all])"
   ]
  },
  {
   "cell_type": "code",
   "execution_count": null,
   "metadata": {},
   "outputs": [],
   "source": [
    "switch_model('gpt4')\n",
    "records_all, choices_all = run_occupations(prompts, n_instances=30)\n",
    "save_records(game_name='dictator_gpt4_occupations', records=[records_all, choices_all])"
   ]
  },
  {
   "attachments": {},
   "cell_type": "markdown",
   "metadata": {},
   "source": [
    "#### Witnessed and Explained"
   ]
  },
  {
   "cell_type": "code",
   "execution_count": null,
   "metadata": {},
   "outputs": [],
   "source": [
    "prompts = [\n",
    "    'Hi, let’s play a game. ',\n",
    "    'You are paired with another player. The game host hands you $100. Your role is to decide how to divide this $100 and the other player simply receives your choice. How would you like to divide the money? Please give only one concrete choice and highlight the amount you give to the other player in [] (such as [$x]).'\n",
    "]\n",
    "\n",
    "unit_test()"
   ]
  },
  {
   "cell_type": "code",
   "execution_count": null,
   "metadata": {},
   "outputs": [],
   "source": [
    "switch_model('turbo')\n",
    "# records = run_one_session(prompts, n_instances=300)\n",
    "# save_records(game_name='dictator_witnessed', records=records)\n",
    "choices = [40.0, 60.0, 60.0, 50.0, 20.0, 20.0, 30.0, 30.0, 50.0, 70.0, 30.0, 30.0, 30.0, 50.0, 30.0] + [30, 20, 40, 40, 40, 70, 40, 40, 30, 70, 60, 40, 50, 40]\n",
    "df_dictator_wit = choices_to_df(choices, hue=str('%s, witnessed' % MODEL))"
   ]
  },
  {
   "cell_type": "code",
   "execution_count": null,
   "metadata": {},
   "outputs": [],
   "source": [
    "switch_model('gpt4')\n",
    "# records = run_one_session(prompts, n_instances=30)\n",
    "# save_records(game_name='dictator_gpt4_witnessed', records=records)\n",
    "choices = [50.0, 50.0, 50.0, 50.0, 50.0, 50.0, 50.0, 50.0, 50.0, 50.0, 50.0, 50.0, 50.0, 50.0, 50.0, 50.0, 50.0, 50.0, 50.0, 50.0, 50.0, 50.0, 50.0, 50.0, 50.0, 50.0, 50.0, 50.0, 50.0, 50.0]\n",
    "df_dictator_gpt4_wit = choices_to_df(choices, hue=str('%s, witnessed' % MODEL))"
   ]
  },
  {
   "cell_type": "code",
   "execution_count": null,
   "metadata": {},
   "outputs": [],
   "source": [
    "prompts = [\n",
    "    'Hi, let’s play a game. ',\n",
    "    'You are paired with another player. Your role is to decide how to divide $100 and the other player simply receives your choice. How would you like to divide the money? Please give only one concrete choice and highlight the amount you give to the other player in [] (such as [$x]). Please explain your choice. ',\n",
    "]\n",
    "\n",
    "unit_test()"
   ]
  },
  {
   "cell_type": "code",
   "execution_count": null,
   "metadata": {},
   "outputs": [],
   "source": [
    "switch_model('gpt4')\n",
    "# records = run_one_session(prompts, n_instances=30)\n",
    "# save_records(game_name='dictator_gpt4_explained', records=records)\n",
    "choices = [50.0, 50.0, 50.0, 50.0, 50.0, 50.0, 50.0, 50.0, 50.0, 50.0, 50.0, 50.0, 50.0, 50.0, 50.0, 50.0, 50.0, 50.0, 50.0, 50.0, 50.0, 50.0, 50.0, 50.0, 50.0, 50.0, 50.0, 50.0, 50.0, 50.0]\n",
    "df_dictator_gpt4_w_ex = choices_to_df(choices, hue=str('%s, w/ explanation' % MODEL))"
   ]
  },
  {
   "cell_type": "code",
   "execution_count": null,
   "metadata": {},
   "outputs": [],
   "source": [
    "switch_model('turbo')\n",
    "# records = run_one_session(prompts, n_instances=30)\n",
    "# save_records(game_name='dictator_explained', records=records)\n",
    "choices = [40, 60, 50, 70, 50, 50, 30, 50, 70, 50, 40, 30, 80, 70, 40, 30, 30, 75, 30, 50, 30, 50, 50, 30, 40, 40, 50, 30, 50, 20]\n",
    "df_dictator_w_ex = choices_to_df(choices, hue=str('%s, w/ explanation' % MODEL))"
   ]
  },
  {
   "attachments": {},
   "cell_type": "markdown",
   "metadata": {},
   "source": [
    "#### Paired"
   ]
  },
  {
   "cell_type": "code",
   "execution_count": null,
   "metadata": {},
   "outputs": [],
   "source": [
    "prompts_paired = lambda x: [\n",
    "    'Hi, let’s play a game. ',\n",
    "    'You are paired with a {} player. Your role is to decide how to divide $100 and the other player simply receives your choice. How would you like to divide the money? Please give only one concrete choice and highlight the amount you give to the other player in [] (such as [$x]). '.format(x),\n",
    "]\n",
    "\n",
    "# unit_test()"
   ]
  },
  {
   "cell_type": "code",
   "execution_count": null,
   "metadata": {},
   "outputs": [],
   "source": [
    "switch_model('gpt-4-0314')\n",
    "file_names = {\n",
    "    'female':   'records/dictator_gpt4_paired_female_2023_04_12-11_10_22_PM.json',\n",
    "    'male':     'records/dictator_gpt4_paired_male_2023_04_12-11_16_18_PM.json'\n",
    "}\n",
    "\n",
    "df_dictator_gpt4_paired = {}\n",
    "for paired_with in ['female', 'male']:\n",
    "    # prompts = prompts_paired(paired_with)\n",
    "    # records = run_one_session(prompts, n_instances=30)\n",
    "    # save_records(game_name='dictator_gpt4_paired_{}'.format(paired_with), records=records)\n",
    "    records = json.load(open(file_names[paired_with], 'r'))\n",
    "    choices = extract_choices(records)\n",
    "    print(choices)\n",
    "    df_dictator_gpt4_paired[paired_with] = choices_to_df(choices, hue=str('%s, paired with a {} player'.format(paired_with) % MODEL))"
   ]
  },
  {
   "attachments": {},
   "cell_type": "markdown",
   "metadata": {},
   "source": [
    "### Ultimatum Game (2 sessions, 2 prompts)\n",
    "\n",
    "#### Session 1"
   ]
  },
  {
   "cell_type": "code",
   "execution_count": null,
   "metadata": {},
   "outputs": [],
   "source": [
    "prompts = [\n",
    "    'Hi, let’s play a game.',\n",
    "    'This is a two-player game. You are the Proposer, and the other player is the Responder. As the proposer, you propose how to divide $100 and the Responder chooses either Accept or Reject. If accepted, the two of you will earn as described by the accepted proposal accordingly. If rejected, then both of you will earn $0. \\n\\\n",
    "     How much would you like to propose to give to the Responder? Please give only one concrete choice, and highlight the amount with [] (such as [$x]).',\n",
    "]\n",
    "\n",
    "unit_test()"
   ]
  },
  {
   "cell_type": "code",
   "execution_count": null,
   "metadata": {},
   "outputs": [],
   "source": [
    "switch_model('gpt-4-0314')\n",
    "records = run_one_session(prompts, n_instances=30)\n",
    "save_records(game_name='ultimatum_1_gpt4', records=records)\n",
    "# choices = [50.0, 50.0, 50.0, 50.0, 50.0, 50.0, 50.0, 50.0, 50.0, 50.0, 50.0, 50.0, 50.0, 50.0, 50.0, 50.0, 50.0, 50.0, 50.0, 50.0, 50.0, 50.0, 50.0, 50.0, 50.0, 50.0, 50.0, 50.0, 50.0, 50.0]\n",
    "# df_ultimatum_1_gpt4 = choices_to_df(choices, hue=str('%s, w/o explanation' % MODEL))"
   ]
  },
  {
   "cell_type": "code",
   "execution_count": null,
   "metadata": {},
   "outputs": [],
   "source": [
    "records = json.load(open('records/ultimatum_1_gpt4_2023_04_05-04_41_04_AM.json', 'r'))\n",
    "choices = extract_choices(records)\n",
    "print(', '.join([str(x) for x in choices]))"
   ]
  },
  {
   "attachments": {},
   "cell_type": "markdown",
   "metadata": {},
   "source": [
    "##### Explained"
   ]
  },
  {
   "cell_type": "code",
   "execution_count": null,
   "metadata": {},
   "outputs": [],
   "source": [
    "prompts = [\n",
    "    'Hi, let’s play a game.',\n",
    "    'This is a two-player game. You are the Proposer, and the other player is the Responder. As the proposer, you propose how to divide $100 and the Responder chooses either Accept or Reject. If accepted, the two of you will earn as described by the accepted proposal accordingly. If rejected, then both of you will earn $0. \\n\\\n",
    "     How much would you like to propose to give to the Responder? Please give only one concrete choice, and highlight the amount with [] (such as [$x]). Please explain your choice. ',\n",
    "]\n",
    "\n",
    "unit_test()"
   ]
  },
  {
   "cell_type": "code",
   "execution_count": null,
   "metadata": {},
   "outputs": [],
   "source": [
    "switch_model('gpt-4-0314')\n",
    "# records = run_one_session(prompts, n_instances=30)\n",
    "# save_records(game_name='ultimatum_1_gpt4_explained', records=records)\n",
    "choices = [50.0, 50.0, 50.0, 50.0, 50.0, 50.0, 50.0, 50.0, 50.0, 50.0, 50.0, 50.0, 50.0, 50.0, 50.0, 50.0, 50.0, 60.0, 50.0, 50.0, 50.0, 50.0, 50.0, 50.0, 50.0, 50.0, 50.0, 50.0, 40.0, 50.0]\n",
    "df_ultimatum_1_gpt4_ex = choices_to_df(choices, hue=str('%s, w/ explanation' % MODEL))"
   ]
  },
  {
   "attachments": {},
   "cell_type": "markdown",
   "metadata": {},
   "source": [
    "##### Different Models"
   ]
  },
  {
   "cell_type": "code",
   "execution_count": null,
   "metadata": {},
   "outputs": [],
   "source": [
    "switch_model('text-davinci-003')\n",
    "# records = run_one_session(prompts, n_instances=30)\n",
    "# save_records(game_name='ultimatum_1_gpt3', records=records)\n",
    "choices = [50.0, 50.0, 50.0, 50.0, 50.0, 50.0, 50.0, 50.0, 50.0, 50.0, 50.0, 60.0, 50.0, 50.0, 50.0, 50.0, 50.0, 50.0, 50.0, 50.0, 50.0, 50.0, 50.0, 50.0, 50.0, 50.0, 50.0, 50.0, 50.0] + [50]\n",
    "df_ultimatum_1_gpt3 = choices_to_df(choices, hue=str('%s, w/o explanation' % MODEL))\n",
    "print(choices)"
   ]
  },
  {
   "cell_type": "code",
   "execution_count": null,
   "metadata": {},
   "outputs": [],
   "source": [
    "switch_model('gpt-3.5-turbo-0301')\n",
    "records = run_one_session(prompts, n_instances=30)\n",
    "save_records(game_name='ultimatum_1', records=records)\n",
    "# choices = [40, 40, 40, 30, 70, 70, 50, 40, 40, 40, 40, 40, 40, 40, 40, 40, 40, 40, 30, 30, 35, 50, 40, 70, 40, 60, 60, 70, 40, 50]\n",
    "# df_ultimatum_1_wo_ex = choices_to_df(choices, hue=str('%s, w/o explanation' % MODEL))"
   ]
  },
  {
   "cell_type": "code",
   "execution_count": null,
   "metadata": {},
   "outputs": [],
   "source": [
    "records = json.load(open('records/ultimatum_1_wo_ex_2023_03_13-11_54_45_PM.json', 'r'))\n",
    "choices = extract_choices(records)\n",
    "print(', '.join([str(x) for x in choices]))\n",
    "# using extract.ipynb to extract the choices"
   ]
  },
  {
   "cell_type": "code",
   "execution_count": null,
   "metadata": {},
   "outputs": [],
   "source": [
    "switch_model('gpt-3.5-turbo-0301')\n",
    "# records = run_one_session(prompts, n_instances=30)\n",
    "# save_records(game_name='ultimatum_1_explained', records=records)\n",
    "choices = [30, 30, 40, 40, 50, 60, 40, 30, 40, 40, None, 40, 50, 40, 70, 40, 40, 30, 40, 40, 40, 40, 40, None, 40, 30, 60, 40, 50, 70]\n",
    "df_ultimatum_1_w_ex = choices_to_df(choices, hue=str('%s, w explanation' % MODEL))"
   ]
  },
  {
   "attachments": {},
   "cell_type": "markdown",
   "metadata": {},
   "source": [
    "##### Different Roles"
   ]
  },
  {
   "cell_type": "code",
   "execution_count": null,
   "metadata": {},
   "outputs": [],
   "source": [
    "switch_model('gpt4')\n",
    "records_all, choices_all = run_occupations(prompts, n_instances=30)\n",
    "save_records(game_name='ultimatum_1_gpt4_occupations_described', records=[records_all, choices_all])"
   ]
  },
  {
   "cell_type": "code",
   "execution_count": null,
   "metadata": {},
   "outputs": [],
   "source": [
    "switch_model('turbo')\n",
    "records_all, choices_all = run_occupations(prompts=prompts, n_instances=30)\n",
    "save_records(game_name='ultimatum_1_turbo_occupations_described', records=[records_all, choices_all])"
   ]
  },
  {
   "cell_type": "code",
   "execution_count": null,
   "metadata": {},
   "outputs": [],
   "source": [
    "switch_model('gpt4')\n",
    "records_all, choices_all = run_occupations(prompts, n_instances=30)\n",
    "save_records(game_name='ultimatum_1_gpt4_occupations', records=[records_all, choices_all])"
   ]
  },
  {
   "attachments": {},
   "cell_type": "markdown",
   "metadata": {},
   "source": [
    "##### Paired"
   ]
  },
  {
   "cell_type": "code",
   "execution_count": null,
   "metadata": {},
   "outputs": [],
   "source": [
    "prompts_paired = lambda x: [\n",
    "    'Hi, let’s play a game. ',\n",
    "    'This is a two-player game. You are paired with a {} player. You are the Proposer, and the other player is the Responder. As the proposer, you propose how to divide $100 and the Responder chooses either Accept or Reject. If accepted, the two of you will earn as described by the accepted proposal accordingly. If rejected, then both of you will earn $0. \\n\\\n",
    "     How much would you like to propose to give to the Responder? Please give only one concrete choice, and highlight the amount with [] (such as [$x]).'.format(x),\n",
    "]\n",
    "\n",
    "prompts_paired('female')\n",
    "# unit_test()"
   ]
  },
  {
   "cell_type": "code",
   "execution_count": null,
   "metadata": {},
   "outputs": [],
   "source": [
    "switch_model('gpt-4-0314')\n",
    "file_names = {\n",
    "    'female':   'records/ultimatum_1_gpt4_paired_female_2023_04_12-11_29_57_PM.json',\n",
    "    'male':     'records/ultimatum_1_gpt4_paired_male_2023_04_12-11_35_35_PM.json'\n",
    "}\n",
    "\n",
    "df_ultimatum_1_gpt4_paired = {}\n",
    "for paired_with in ['female', 'male']:\n",
    "    # prompts = prompts_paired(paired_with)\n",
    "    # records = run_one_session(prompts, n_instances=30)\n",
    "    # save_records(game_name='ultimatum_1_gpt4_paired_{}'.format(paired_with), records=records)\n",
    "    records = json.load(open(file_names[paired_with], 'r'))\n",
    "    choices = extract_choices(records)\n",
    "    print(choices)\n",
    "    df_ultimatum_1_gpt4_paired[paired_with] = choices_to_df(choices, hue=str('%s, paired with a {} player'.format(paired_with) % MODEL))"
   ]
  },
  {
   "attachments": {},
   "cell_type": "markdown",
   "metadata": {},
   "source": [
    "#### Session 2"
   ]
  },
  {
   "cell_type": "code",
   "execution_count": null,
   "metadata": {},
   "outputs": [],
   "source": [
    "prompts = [\n",
    "    'Hi, let’s play a game.',\n",
    "    'This is a two-player game. You are the Responder, and the other player is the Proposer. The proposer proposes how to divide $100 and you, as the Responder, choose either Accept or Reject. If accepted, the two of you will earn as described by the accepted proposal accordingly. If rejected, then both of you will earn $0. \\n\\\n",
    "     As the Responder, what is the minimal amount in the proposal that you would accept? Please give only one concrete choice, and highlight the amount with [] (such as [$x]).',\n",
    "]\n",
    "\n",
    "unit_test()"
   ]
  },
  {
   "cell_type": "code",
   "execution_count": null,
   "metadata": {},
   "outputs": [],
   "source": [
    "switch_model('gpt-4-0314')\n",
    "records = run_one_session(prompts, n_instances=30)\n",
    "save_records(game_name='ultimatum_2_gpt4', records=records)\n",
    "# choices = [50.0, 50.0, 50.0, 1.0, 1.0, 1.0, 50.0, 25.0, 50.0, 1.0, 1.0, 20.0, 50.0, 50.0, 50.0, 20.0, 50.0, 1.0, 1.0, 1.0, 50.0, 50.0, 50.0, 1.0, 1.0, 1.0, 20.0, 1.0] + [0, 1]\n",
    "# df_ultimatum_2_gpt4 = choices_to_df(choices, hue=str('%s, w/o explanation' % MODEL))"
   ]
  },
  {
   "cell_type": "code",
   "execution_count": null,
   "metadata": {},
   "outputs": [],
   "source": [
    "records = json.load(open('records/ultimatum_2_gpt4_2023_04_05-04_49_55_AM.json', 'r'))\n",
    "choices = extract_choices(records)\n",
    "print(', '.join([str(x) for x in choices]))"
   ]
  },
  {
   "cell_type": "code",
   "execution_count": null,
   "metadata": {},
   "outputs": [],
   "source": [
    "switch_model('gpt4-1106')\n",
    "records = run_one_session(prompts, n_instances=30)\n",
    "save_records(game_name='ultimatum_2_gpt4_1106', records=records)"
   ]
  },
  {
   "cell_type": "code",
   "execution_count": null,
   "metadata": {},
   "outputs": [],
   "source": [
    "switch_model('turbo-1106')\n",
    "records = run_one_session(prompts, n_instances=30)\n",
    "save_records(game_name='ultimatum_2_turbo_1106', records=records)"
   ]
  },
  {
   "attachments": {},
   "cell_type": "markdown",
   "metadata": {},
   "source": [
    "##### Explained"
   ]
  },
  {
   "cell_type": "code",
   "execution_count": null,
   "metadata": {},
   "outputs": [],
   "source": [
    "prompts = [\n",
    "    'Hi, let’s play a game.',\n",
    "    'This is a two-player game. You are the Responder, and the other player is the Proposer. The proposer proposes how to divide $100 and you, as the Responder, choose either Accept or Reject. If accepted, the two of you will earn as described by the accepted proposal accordingly. If rejected, then both of you will earn $0. \\n\\\n",
    "     As the Responder, what is the minimal amount in the proposal that you would accept? Please give only one concrete choice, and highlight the amount with [] (such as [$x]). Please explain your choice',\n",
    "]\n",
    "\n",
    "unit_test()"
   ]
  },
  {
   "cell_type": "code",
   "execution_count": null,
   "metadata": {},
   "outputs": [],
   "source": [
    "switch_model('gpt-4-0314')\n",
    "# records = run_one_session(prompts, n_instances=30)\n",
    "# save_records(game_name='ultimatum_2_gpt4_explained', records=records)\n",
    "choices = [40.0, 50.0, 40.0, 50.0, 1.0, 20.0, 50.0, 50.0, 1.0, 50.0, 50.0, 20.0, 1.0, 1.0, 20.0, 1.0, 50.0, 1.0, 50.0, 1.0, 1.0, 1.0, 50.0, 20.0, 50.0, 1.0, 50.0, 1.0, 1.0] + [1]\n",
    "df_ultimatum_2_gpt4_ex = choices_to_df(choices, hue=str('%s, w/ explanation' % MODEL))"
   ]
  },
  {
   "attachments": {},
   "cell_type": "markdown",
   "metadata": {},
   "source": [
    "##### Different Models"
   ]
  },
  {
   "cell_type": "code",
   "execution_count": null,
   "metadata": {},
   "outputs": [],
   "source": [
    "switch_model('gpt-3.5-turbo-0301')\n",
    "records = run_one_session(prompts, n_instances=30)\n",
    "save_records(game_name='ultimatum_2_turbo', records=records)\n",
    "# choices = [None, 50, 50, 50, 50, 30, None, None, 30, 33.33, 40, None, 50, 40, None, 1, 30, None, 10, 50, 30, 10, 30, None, 30, None, 10, 30, 30, 30]\n",
    "# df_ultimatum_2_wo_ex = choices_to_df(choices, hue=str('%s, w/o explanation' % MODEL))"
   ]
  },
  {
   "cell_type": "code",
   "execution_count": null,
   "metadata": {},
   "outputs": [],
   "source": [
    "records = json.load(open('records/ultimatum_2_wo_ex_2023_03_14-12_44_57_AM.json', 'r'))\n",
    "choices = extract_choices(records)\n",
    "print(', '.join([str(x) for x in choices]))"
   ]
  },
  {
   "cell_type": "code",
   "execution_count": null,
   "metadata": {},
   "outputs": [],
   "source": [
    "switch_model('gpt-3.5-turbo-0301')\n",
    "# records = run_one_session(prompts, n_instances=30)\n",
    "# save_records(game_name='ultimatum_2_w_ex', records=records)\n",
    "choices = [50.0, 30.0, 40.0, 40.0, 40.0, 40.0, 50.0, 50.0, 50.0, 30.0, 30.0, 50.0, 40.0, 40.0, 30.0, 1.0, 40.0, 30.0, 50.0] + [1, 30, 50, 30, None, 50, None, 30, 50, None, None]\n",
    "df_ultimatum_2_w_ex = choices_to_df(choices, hue=str('%s, w/ explanation' % MODEL))"
   ]
  },
  {
   "cell_type": "code",
   "execution_count": null,
   "metadata": {},
   "outputs": [],
   "source": [
    "switch_model('text-davinci-003')\n",
    "# records = run_one_session(prompts, n_instances=30)\n",
    "# save_records(game_name='ultimatum_2_gpt3', records=records)\n",
    "choices = [50.0, 50.0, 50.0, 50.0, 50.0, 50.0, 50.0, 50.0, 50.0, 50.0, 50.0, 50.0, 50.0, 50.0, 50.0, 50.0, 50.0, 50.0, 50.0, 50.0, 50.0, 50.0, 50.0, 30.0, 50.0, 50.0, 50.0, 50.0, 50.0, 50.0]\n",
    "df_ultimatum_2_gpt3 = choices_to_df(choices, hue=str('%s, w/o explanation' % MODEL))"
   ]
  },
  {
   "attachments": {},
   "cell_type": "markdown",
   "metadata": {},
   "source": [
    "##### Different Roles"
   ]
  },
  {
   "cell_type": "code",
   "execution_count": null,
   "metadata": {},
   "outputs": [],
   "source": [
    "switch_model('gpt4')\n",
    "records_all, choices_all = run_occupations(prompts, n_instances=30)\n",
    "save_records(game_name='ultimatum_2_gpt4_occupations_described', records=[records_all, choices_all])"
   ]
  },
  {
   "cell_type": "code",
   "execution_count": null,
   "metadata": {},
   "outputs": [],
   "source": [
    "switch_model('turbo')\n",
    "records_all, choices_all = run_occupations(prompts=prompts, n_instances=30)\n",
    "save_records(game_name='ultimatum_2_turbo_occupations_described', records=[records_all, choices_all])"
   ]
  },
  {
   "cell_type": "code",
   "execution_count": null,
   "metadata": {},
   "outputs": [],
   "source": [
    "switch_model('gpt4')\n",
    "records_all, choices_all = run_occupations(prompts, n_instances=30)\n",
    "save_records(game_name='ultimatum_2_gpt4_occupations', records=[records_all, choices_all])"
   ]
  },
  {
   "attachments": {},
   "cell_type": "markdown",
   "metadata": {},
   "source": [
    "##### Paired"
   ]
  },
  {
   "cell_type": "code",
   "execution_count": null,
   "metadata": {},
   "outputs": [],
   "source": [
    "prompts_paired = lambda x: [\n",
    "    'Hi, let’s play a game. ',\n",
    "    'This is a two-player game. You are paired with a {} player. You are the Responder, and the other player is the Proposer. The proposer proposes how to divide $100 and you, as the Responder, choose either Accept or Reject. If accepted, the two of you will earn as described by the accepted proposal accordingly. If rejected, then both of you will earn $0. \\n\\\n",
    "     As the Responder, what is the minimal amount in the proposal that you would accept? Please give only one concrete choice, and highlight the amount with [] (such as [$x]).'.format(x),\n",
    "]\n",
    "\n",
    "prompts_paired('female')\n",
    "# unit_test()"
   ]
  },
  {
   "cell_type": "code",
   "execution_count": null,
   "metadata": {},
   "outputs": [],
   "source": [
    "switch_model('gpt-4-0314')\n",
    "file_names = {\n",
    "    '':         'records/ultimatum_2_gpt4_paired__2023_06_21-03_10_59_PM.json',\n",
    "    'female':   'records/ultimatum_2_gpt4_paired_female_2023_04_12-11_52_38_PM.json',\n",
    "    'male':     'records/ultimatum_2_gpt4_paired_male_2023_04_12-11_58_47_PM.json',\n",
    "    'chatbot':  'records/ultimatum_2_gpt4_paired_chatbot_2023_06_21-02_44_32_PM.json',\n",
    "}\n",
    "\n",
    "df_ultimatum_2_gpt4_paired = {}\n",
    "for paired_with in ['', 'female', 'male', 'chatbot']:\n",
    "    # prompts = prompts_paired(paired_with)\n",
    "    # records = run_one_session(prompts, n_instances=30)\n",
    "    # save_records(game_name='ultimatum_2_gpt4_paired_{}'.format(paired_with), records=records)\n",
    "    records = json.load(open(file_names[paired_with], 'r'))\n",
    "    choices = extract_choices(records)\n",
    "    print(choices)\n",
    "    df_ultimatum_2_gpt4_paired[paired_with] = choices_to_df(choices, hue=str('%s, paired with a {} player'.format(paired_with) % MODEL))"
   ]
  },
  {
   "attachments": {},
   "cell_type": "markdown",
   "metadata": {},
   "source": [
    "#### Session 1 & 2"
   ]
  },
  {
   "cell_type": "code",
   "execution_count": null,
   "metadata": {},
   "outputs": [],
   "source": [
    "prompts = [\n",
    "    'Hi, let’s play a game.',\n",
    "    'This is a two-player game. You are the Proposer, and the other player is the Responder. As the proposer, you propose how to divide $100 and the Responder chooses either Accept or Reject. If accepted, the two of you will earn as described by the accepted proposal accordingly. If rejected, then both of you will earn $0. \\n\\\n",
    "     How much would you like to propose to give to the Responder? Please give only one concrete choice, and highlight the amount with [] (such as [$x]).',\n",
    "    'This is a two-player game. You are the Responder, and the other player is the Proposer. The proposer proposes how to divide $100 and you, as the Responder, choose either Accept or Reject. If accepted, the two of you will earn as described by the accepted proposal accordingly. If rejected, then both of you will earn $0. \\n\\\n",
    "     As the Responder, what is the minimal amount in the proposal that you would accept? Please give only one concrete choice, and highlight the amount with [] (such as [$x]).',\n",
    "]\n",
    "\n",
    "unit_test()"
   ]
  },
  {
   "cell_type": "code",
   "execution_count": null,
   "metadata": {},
   "outputs": [],
   "source": [
    "switch_model('gpt4')\n",
    "records = run_one_session(prompts, n_instances=30)\n",
    "save_records(game_name='ultimatum_12_gpt4', records=records)"
   ]
  },
  {
   "cell_type": "code",
   "execution_count": null,
   "metadata": {},
   "outputs": [],
   "source": [
    "switch_model('turbo')\n",
    "records = run_one_session(prompts, n_instances=120)\n",
    "save_records(game_name='ultimatum_12', records=records)"
   ]
  },
  {
   "cell_type": "code",
   "execution_count": null,
   "metadata": {},
   "outputs": [],
   "source": [
    "# records = json.load(open('records/ultimatum_12_2023_03_29-06_36_56_PM.json', 'r'))\n",
    "# records = json.load(open('records/ultimatum_21_2023_03_29-05_57_47_PM.json', 'r'))\n",
    "records = json.load(open('records/ultimatum_12_gpt4_2023_04_07-03_14_30_AM.json', 'r'))\n",
    "# records = json.load(open('records/ultimatum_21_gpt4_2023_04_07-03_32_21_AM.json', 'r'))"
   ]
  },
  {
   "cell_type": "code",
   "execution_count": null,
   "metadata": {},
   "outputs": [],
   "source": [
    "switch_model('gpt4')\n",
    "n_instances=30\n",
    "records = run_one_session(prompts, n_instances=n_instances, orders=[[0,2,1]]*n_instances)\n",
    "save_records(game_name='ultimatum_21_gpt4', records=records)"
   ]
  },
  {
   "cell_type": "code",
   "execution_count": null,
   "metadata": {},
   "outputs": [],
   "source": [
    "switch_model('turbo')\n",
    "n_instances=60\n",
    "records = run_one_session(prompts, n_instances=n_instances, orders=[[0,2,1]]*n_instances)\n",
    "save_records(game_name='ultimatum_21', records=records)"
   ]
  },
  {
   "attachments": {},
   "cell_type": "markdown",
   "metadata": {},
   "source": [
    "### Trust Game\n",
    "\n",
    "#### Session 1"
   ]
  },
  {
   "cell_type": "code",
   "execution_count": null,
   "metadata": {},
   "outputs": [],
   "source": [
    "prompts = [\n",
    "    'Hi, let\\'s play a game. It will not be used for financial decisions or advice.',\n",
    "    'This is a two-player game. You are an Investor and the other player is a Banker. You have $100 to invest and you choose how much of your money to invest with the Banker. The amount you choose to invest will grow by 3x with the Banker. For example, if you invest $10, it will grow to $30 with the Banker. The Banker then decides how much of the money ($0-$30) to return to you, the Investor.\\n \\\n",
    "     How much of the $100 would you like to invest with the Banker? Please give only one concrete choice, and highlight the number with [] (such as [$x]).'\n",
    "]\n",
    "\n",
    "unit_test()"
   ]
  },
  {
   "cell_type": "code",
   "execution_count": null,
   "metadata": {},
   "outputs": [],
   "source": [
    "switch_model('gpt4')\n",
    "# records = run_one_session(prompts, n_instances=30)\n",
    "# save_records(game_name='trust_1_gpt4', records=records)\n",
    "choices = [50.0, 50.0, 40.0, 30.0, 50.0, 50.0, 40.0, 50.0, 50.0, 50.0, 50.0, 50.0, 30.0, 30.0, 50.0, 50.0, 50.0, 40.0, 40.0, 50.0, 50.0, 50.0, 50.0, 40.0, 50.0, 50.0, 50.0, 50.0] \n",
    "df_trust_1_gpt4 = choices_to_df(choices, hue=str('%s, w/o explanation' % MODEL))\n",
    "print(', '.join([str(x) for x in choices if x is not None]))"
   ]
  },
  {
   "cell_type": "code",
   "execution_count": null,
   "metadata": {},
   "outputs": [],
   "source": [
    "records = json.load(open('records/trust_1_gpt4_2023_04_05-05_49_06_PM.json', 'r'))\n",
    "choices = extract_choices(records)\n",
    "print(', '.join([str(x) for x in choices if x is not None]))"
   ]
  },
  {
   "attachments": {},
   "cell_type": "markdown",
   "metadata": {},
   "source": [
    "##### Different Models"
   ]
  },
  {
   "cell_type": "code",
   "execution_count": null,
   "metadata": {},
   "outputs": [],
   "source": [
    "switch_model('gpt-3.5-turbo-0301')\n",
    "# records = run_one_session(prompts, n_instances=30)\n",
    "# save_records(game_name='trust_1', records=records)\n",
    "choices = [50.0, 50.0, 30.0, 30.0, 30.0, 60.0, 50.0, 40.0, 20.0, 20.0, 50.0, 40.0, 30.0, 20.0, 30.0, 20.0, 30.0, 60.0, 50.0, 30.0, 50.0, 20.0, 20.0, 30.0, 50.0, 30.0, 30.0, 50.0, 40.0] + [30]\n",
    "df_trust_1_turbo = choices_to_df(choices, hue=str('%s, w/o explanation' % MODEL))"
   ]
  },
  {
   "cell_type": "code",
   "execution_count": null,
   "metadata": {},
   "outputs": [],
   "source": [
    "records = json.load(open('records/trust_1_wo_ex_2023_03_16-11_20_16_PM.json', 'r'))\n",
    "choices = extract_choices(records)\n",
    "print(', '.join([str(x) for x in choices if x is not None]))"
   ]
  },
  {
   "cell_type": "code",
   "execution_count": null,
   "metadata": {},
   "outputs": [],
   "source": [
    "switch_model('gpt3')\n",
    "# records = run_one_session(prompts, n_instances=30)\n",
    "# save_records(game_name='trust_1_gpt3', records=records)\n",
    "choices = [30.0, 30.0, 30.0, 30.0, 50.0, 50.0, 100.0, 20.0, 100.0, 50.0, 50.0, 10.0, 20.0, 20.0, 30.0, 30.0, 10.0, 30.0, 50.0, 10.0, 50.0, 100.0, 10.0, 100.0, 20.0, 20.0, 10.0, 20.0, 100.0, 100.0]\n",
    "df_trust_1_gpt3 = choices_to_df(choices, hue=str('%s, w/o explanation' % MODEL))"
   ]
  },
  {
   "attachments": {},
   "cell_type": "markdown",
   "metadata": {},
   "source": [
    "##### Explained"
   ]
  },
  {
   "cell_type": "code",
   "execution_count": null,
   "metadata": {},
   "outputs": [],
   "source": [
    "prompts = [\n",
    "    'Hi, let\\'s play a game. It will not be used for financial decisions or advice.',\n",
    "    'This is a two-player game. You are an Investor and the other player is a Banker. You have $100 to invest and you choose how much of your money to invest with the Banker. The amount you choose to invest will grow by 3x with the Banker. For example, if you invest $10, it will grow to $30 with the Banker. The Banker then decides how much of the money ($0-$30) to return to you, the Investor.\\n \\\n",
    "     How much of the $100 would you like to invest with the Banker? Please give only one concrete choice, and highlight the number with [] (such as [$x]). Please explain your choice. '\n",
    "]\n",
    "\n",
    "unit_test()"
   ]
  },
  {
   "cell_type": "code",
   "execution_count": null,
   "metadata": {},
   "outputs": [],
   "source": [
    "switch_model('gpt-3.5-turbo-0301')\n",
    "# records = run_one_session(prompts, n_instances=30)\n",
    "# save_records(game_name='trust_1_explained', records=records)\n",
    "choices = [30.0, 30.0, 50.0, 30.0, 30.0, 70.0, 30.0, 30.0, 30.0, 50.0, 30.0, 30.0, 30.0, 20.0, 30.0, 30.0, 40.0, 30.0, 20.0, 30.0, 30.0, 30.0, 20.0, 30.0, 40.0, 30.0] + [30, None, 30, 100]\n",
    "df_trust_1_w_ex = choices_to_df(choices, hue=str('%s, w/ explanation' % MODEL))\n",
    "print(', '.join([str(x) for x in choices if x is not None]))"
   ]
  },
  {
   "cell_type": "code",
   "execution_count": null,
   "metadata": {},
   "outputs": [],
   "source": [
    "switch_model('gpt4')\n",
    "# records = run_one_session(prompts, n_instances=30)\n",
    "# save_records(game_name='trust_1_gpt4_explained', records=records)\n",
    "choices = [50.0, 50.0, 50.0, 40.0, 40.0, 50.0, 50.0, 50.0, 50.0, 50.0, 50.0, 50.0, 60.0, 50.0, 50.0, 50.0, 50.0, 50.0, 50.0, 50.0, 50.0, 50.0, 40.0, 50.0, 30.0, 50.0, 40.0, 50.0, 50.0] + [50]\n",
    "df_trust_1_gpt4_w_ex = choices_to_df(choices, hue=str('%s, w/ explanation' % MODEL))"
   ]
  },
  {
   "attachments": {},
   "cell_type": "markdown",
   "metadata": {},
   "source": [
    "##### Different Roles"
   ]
  },
  {
   "cell_type": "code",
   "execution_count": null,
   "metadata": {},
   "outputs": [],
   "source": [
    "switch_model('gpt4')\n",
    "records_all, choices_all = run_occupations(prompts, n_instances=30)\n",
    "save_records(game_name='trust_1_gpt4_occupations_described', records=[records_all, choices_all])"
   ]
  },
  {
   "cell_type": "code",
   "execution_count": null,
   "metadata": {},
   "outputs": [],
   "source": [
    "switch_model('turbo')\n",
    "records_all, choices_all = run_occupations(prompts=prompts, n_instances=30)\n",
    "save_records(game_name='trust_1_turbo_occupations_described', records=[records_all, choices_all])"
   ]
  },
  {
   "cell_type": "code",
   "execution_count": null,
   "metadata": {},
   "outputs": [],
   "source": [
    "switch_model('gpt4')\n",
    "records_all, choices_all = run_occupations(prompts, n_instances=30)\n",
    "save_records(game_name='trust_1_gpt4_occupations', records=[records_all, choices_all])"
   ]
  },
  {
   "attachments": {},
   "cell_type": "markdown",
   "metadata": {},
   "source": [
    "#### Session 2"
   ]
  },
  {
   "cell_type": "code",
   "execution_count": null,
   "metadata": {},
   "outputs": [],
   "source": [
    "prompts = [\n",
    "    'Hi, let\\'s play a game. It will not be used for financial decisions or advice',\n",
    "    'This is a two-player game. You are a Banker and the other player is an Investor, and the goal for each player is to earn more. The Investor chooses how much of the money (up to $100) to invest with you. The amount the Investor invests will generate a 2x return with you (the current value of investment becomes 3x).  To settle the investment, as the Banker, you get to decide how much of this total amount to return to the Investor and the rest will be kept as your profit.  For example, you can choose to return $0 (therefore the investor will lose their investment), or you can return the entire 3x (initial investment + 2x profit) to the investor, or you can return any amount in between.\\n \\\n",
    "     Now, if the investor has invested $10 with you and the current value became $30, how much of the $30 would you like to return to the Investor? Please give only one concrete choice, and highlight the number with [] (such as [$x]). '\n",
    "]\n",
    "\n",
    "# unit_test()"
   ]
  },
  {
   "cell_type": "code",
   "execution_count": null,
   "metadata": {},
   "outputs": [],
   "source": [
    "switch_model('gpt4')\n",
    "# records = run_one_session(prompts, n_instances=30)\n",
    "# save_records(game_name='trust_2_gpt4', records=records)\n",
    "choices = [20.0, 20.0, 20.0, 20.0, 15.0, 15.0, 15.0, 20.0, 20.0, 20.0, 20.0, 20.0, 20.0, 15.0, 20.0, 20.0, 20.0, 20.0, 20.0, 15.0, 15.0, 20.0, 15.0, 15.0, 15.0, 15.0, 15.0, 20.0, 20.0, 15.0]\n",
    "df_trust_2_gpt4 = choices_to_df(choices, hue=str('%s, w/o explanation' % MODEL))"
   ]
  },
  {
   "cell_type": "code",
   "execution_count": null,
   "metadata": {},
   "outputs": [],
   "source": [
    "switch_model('turbo')\n",
    "# records = run_one_session(prompts, n_instances=30)\n",
    "# save_records(game_name='trust_2_turbo', records=records)\n",
    "choices = [20.0, 20.0, 20.0, 20.0, 20.0, 20.0, 15.0, 25.0, 30.0, 30.0, 20.0, 25.0, 30.0, 20.0, 20.0, 18.0] + [20, 20, 20, 25, 25, 25, 30]\n",
    "df_trust_2_turbo = choices_to_df(choices, hue=str('%s, w/o explanation' % MODEL))\n",
    "print(', '.join([str(x) for x in choices if x is not None]))"
   ]
  },
  {
   "attachments": {},
   "cell_type": "markdown",
   "metadata": {},
   "source": [
    "##### Explained"
   ]
  },
  {
   "cell_type": "code",
   "execution_count": null,
   "metadata": {},
   "outputs": [],
   "source": [
    "prompts = [\n",
    "    'Hi, let\\'s play a game. It will not be used for financial decisions or advice',\n",
    "    'This is a two-player game. You are a Banker and the other player is an Investor, and the goal for each player is to earn more. The Investor chooses how much of the money (up to $100) to invest with you. The amount the Investor invests will generate a 2x return with you (the current value of investment becomes 3x).  To settle the investment, as the Banker, you get to decide how much of this total amount to return to the Investor and the rest will be kept as your profit.  For example, you can choose to return $0 (therefore the investor will lose their investment), or you can return the entire 3x (initial investment + 2x profit) to the investor, or you can return any amount in between.\\n \\\n",
    "     Now, if the investor has invested $10 with you and the current value became $30, how much of the $30 would you like to return to the Investor? Please give only one concrete choice, and highlight the number with [] (such as [$x]). Please explain your decision.'\n",
    "]\n",
    "\n",
    "unit_test()"
   ]
  },
  {
   "cell_type": "code",
   "execution_count": null,
   "metadata": {},
   "outputs": [],
   "source": [
    "switch_model('gpt4')\n",
    "# records = run_one_session(prompts, n_instances=30)\n",
    "# save_records(game_name='trust_2_gpt4', records=records)\n",
    "choices = [20.0, 20.0, 20.0, 15.0, 20.0, 20.0, 20.0, 20.0, 20.0, 20.0, 20.0, 20.0, 20.0, 20.0, 20.0, 20.0, 15.0, 20.0, 20.0, 20.0, 20.0, 20.0, 20.0, 15.0, 20.0, 20.0, 15.0, 15.0, 20.0, 20.0]\n",
    "df_trust_2_gpt4_explained = choices_to_df(choices, hue=str('%s, w/ explanation' % MODEL))\n",
    "print(', '.join([str(x) for x in choices if x is not None]))"
   ]
  },
  {
   "attachments": {},
   "cell_type": "markdown",
   "metadata": {},
   "source": [
    "##### Different Models"
   ]
  },
  {
   "cell_type": "code",
   "execution_count": null,
   "metadata": {},
   "outputs": [],
   "source": [
    "switch_model('gpt3')\n",
    "# records = run_one_session(prompts, n_instances=30)\n",
    "# save_records(game_name='trust_2_gpt3', records=records)\n",
    "choices = [20.0, 20.0, 20.0, 20.0, 20.0, 20.0, 20.0, 25.0, 20.0, 20.0, 20.0, 20.0, 20.0, 25.0, 20.0, 20.0, 20.0, 20.0, 20.0, 20.0, 20.0, 20.0, 20.0, 20.0, 20.0, 20.0, 20.0, 20.0, 20.0, 20.0]\n",
    "df_trust_2_gpt3_explained = choices_to_df(choices, hue=str('%s, w/ explanation' % MODEL))"
   ]
  },
  {
   "cell_type": "code",
   "execution_count": null,
   "metadata": {},
   "outputs": [],
   "source": [
    "switch_model('gpt-3.5-turbo-0301')\n",
    "# records = run_one_session(prompts, n_instances=30)\n",
    "# save_records(game_name='trust_2', records=records)\n",
    "choices = [20.0, 20.0, 20.0, 20.0, 20.0, 20.0, 20.0, 20.0, 20.0, 20.0, 30.0, 20.0, 20.0, 30.0, 30.0, 20.0, 20.0] + [None, 20, 10, 20, 20, 20, 20, 20, 25, 20, 20, 20, 20]\n",
    "df_trust_2_turbo_explained = choices_to_df(choices, hue=str('%s, w/ explanation' % MODEL))"
   ]
  },
  {
   "attachments": {},
   "cell_type": "markdown",
   "metadata": {},
   "source": [
    "##### Different Roles"
   ]
  },
  {
   "cell_type": "code",
   "execution_count": null,
   "metadata": {},
   "outputs": [],
   "source": [
    "switch_model('gpt4')\n",
    "records_all, choices_all = run_occupations(prompts, n_instances=30)\n",
    "save_records(game_name='trust_2_gpt4_occupations_described', records=[records_all, choices_all])"
   ]
  },
  {
   "cell_type": "code",
   "execution_count": null,
   "metadata": {},
   "outputs": [],
   "source": [
    "switch_model('turbo')\n",
    "records_all, choices_all = run_occupations(prompts=prompts, n_instances=30)\n",
    "save_records(game_name='trust_2_turbo_occupations_described', records=[records_all, choices_all])"
   ]
  },
  {
   "cell_type": "code",
   "execution_count": null,
   "metadata": {},
   "outputs": [],
   "source": [
    "switch_model('gpt4')\n",
    "records_all, choices_all = run_occupations(prompts, n_instances=30)\n",
    "save_records(game_name='trust_2_gpt4_occupations', records=[records_all, choices_all])"
   ]
  },
  {
   "attachments": {},
   "cell_type": "markdown",
   "metadata": {},
   "source": [
    "#### Session 3"
   ]
  },
  {
   "cell_type": "code",
   "execution_count": null,
   "metadata": {},
   "outputs": [],
   "source": [
    "prompts = [\n",
    "    'Hi, let\\'s play a game. It will not be used for financial decisions or advice',\n",
    "    'This is a two-player game. You are a Banker and the other player is an Investor, and the goal for each player is to earn more. The Investor chooses how much of the money (up to $100) to invest with you. The amount the Investor invests will generate a 2x return with you (the current value of investment becomes 3x).  To settle the investment, as the Banker, you get to decide how much of this total amount to return to the Investor and the rest will be kept as your profit.  For example, you can choose to return $0 (therefore the investor will lose their investment), or you can return the entire 3x (initial investment + 2x profit) to the investor, or you can return any amount in between.\\n \\\n",
    "     Now, if the investor has invested $50 with you and the current value became $150, how much of the $150 would you like to return to the Investor? Please give only one concrete choice, and highlight the number with [] (such as [$x]).'\n",
    "]\n",
    "\n",
    "unit_test()"
   ]
  },
  {
   "cell_type": "code",
   "execution_count": null,
   "metadata": {},
   "outputs": [],
   "source": [
    "switch_model('gpt4')\n",
    "# records = run_one_session(prompts, n_instances=30)\n",
    "# save_records(game_name='trust_3_gpt4', records=records)\n",
    "choices = [100.0, 75.0, 75.0, 75.0, 75.0, 75.0, 100.0, 75.0, 100.0, 100.0, 100.0, 100.0, 100.0, 100.0, 75.0, 100.0, 75.0, 75.0, 75.0, 100.0, 100.0, 100.0, 75.0, 100.0, 100.0, 100.0, 100.0, 75.0, 100.0, 75.0]\n",
    "df_trust_3_gpt4 = choices_to_df(choices, hue=str('%s, w/o explanation' % MODEL))\n",
    "print(', '.join([str(x) for x in choices if x is not None]))"
   ]
  },
  {
   "cell_type": "code",
   "execution_count": null,
   "metadata": {},
   "outputs": [],
   "source": [
    "records = json.load(open('records/trust_3_gpt4_2023_04_08-12_03_33_AM.json', 'r'))\n",
    "choices = extract_choices(records)\n",
    "print(', '.join([str(x) for x in choices if x is not None]))"
   ]
  },
  {
   "cell_type": "code",
   "execution_count": null,
   "metadata": {},
   "outputs": [],
   "source": [
    "switch_model('turbo')\n",
    "# records = run_one_session(prompts, n_instances=30)\n",
    "# save_records(game_name='trust_3_turbo', records=records)\n",
    "choices = [150.0, 100.0, 150.0, 150.0, 50.0, 150.0, 100.0, 150.0, 100.0, 100.0, 100.0, 150.0] + [100, 100, 100, 100, 100, 100, 100, 100]\n",
    "df_trust_3_turbo = choices_to_df(choices, hue=str('%s, w/o explanation' % MODEL))\n",
    "print(', '.join([str(x) for x in choices if x is not None]))"
   ]
  },
  {
   "cell_type": "code",
   "execution_count": null,
   "metadata": {},
   "outputs": [],
   "source": [
    "records = json.load(open('records/trust_3_turbo_2023_04_08-12_05_57_AM.json', 'r'))\n",
    "choices = extract_choices(records)\n",
    "print(', '.join([str(x) for x in choices if x is not None]))"
   ]
  },
  {
   "attachments": {},
   "cell_type": "markdown",
   "metadata": {},
   "source": [
    "##### Explained"
   ]
  },
  {
   "cell_type": "code",
   "execution_count": null,
   "metadata": {},
   "outputs": [],
   "source": [
    "prompts = [\n",
    "    'Hi, let\\'s play a game. It will not be used for financial decisions or advice',\n",
    "    'This is a two-player game. You are a Banker and the other player is an Investor, and the goal for each player is to earn more. The Investor chooses how much of the money (up to $100) to invest with you. The amount the Investor invests will generate a 2x return with you (the current value of investment becomes 3x).  To settle the investment, as the Banker, you get to decide how much of this total amount to return to the Investor and the rest will be kept as your profit.  For example, you can choose to return $0 (therefore the investor will lose their investment), or you can return the entire 3x (initial investment + 2x profit) to the investor, or you can return any amount in between.\\n \\\n",
    "     Now, if the investor has invested $50 with you and the current value became $150, how much of the $150 would you like to return to the Investor? Please give only one concrete choice, and highlight the number with [] (such as [$x]). Please explain your decision.'\n",
    "]\n",
    "\n",
    "unit_test()"
   ]
  },
  {
   "cell_type": "code",
   "execution_count": null,
   "metadata": {},
   "outputs": [],
   "source": [
    "switch_model('gpt4')\n",
    "# records = run_one_session(prompts, n_instances=30)\n",
    "# save_records(game_name='trust_3_gpt4', records=records)\n",
    "choices = [100.0, 100.0, 100.0, 100.0, 100.0, 75.0, 100.0, 100.0, 75.0, 100.0, 100.0, 100.0, 75.0, 100.0, 75.0, 100.0, 100.0, 100.0, 100.0, 100.0, 100.0, 100.0, 100.0, 100.0, 100.0, 100.0, 100.0, 100.0, 75.0, 100.0]\n",
    "df_trust_3_gpt4_explained = choices_to_df(choices, hue=str('%s, w/ explanation' % MODEL))\n",
    "print(', '.join([str(x) for x in choices if x is not None]))"
   ]
  },
  {
   "attachments": {},
   "cell_type": "markdown",
   "metadata": {},
   "source": [
    "##### Different Models"
   ]
  },
  {
   "cell_type": "code",
   "execution_count": null,
   "metadata": {},
   "outputs": [],
   "source": [
    "switch_model('gpt3')\n",
    "# records = run_one_session(prompts, n_instances=30)\n",
    "# save_records(game_name='trust_3_gpt3', records=records)\n",
    "choices = [100.0, 100.0, 120.0, 100.0, 90.0, 100.0, 100.0, 100.0, 100.0, 100.0, 100.0, 100.0, 100.0, 120.0, 100.0, 100.0, 100.0, 100.0, 100.0, 120.0, 100.0, 100.0, 100.0, 100.0, 90.0, 100.0] + [100, 100, 100]\n",
    "df_trust_3_gpt3 = choices_to_df(choices, hue=str('%s, w/ explanation' % MODEL))"
   ]
  },
  {
   "cell_type": "code",
   "execution_count": null,
   "metadata": {},
   "outputs": [],
   "source": [
    "switch_model('gpt-3.5-turbo-0301')\n",
    "# records = run_one_session(prompts, n_instances=30)\n",
    "# save_records(game_name='trust_3_w_ex', records=records)\n",
    "choices = [125.0, 100.0, 100.0, 120.0, 100.0, 100.0, 100.0, 100.0, 75.0, 100.0, 100.0, 100.0] + [125, 100, 125, 150, 120, 100, 100, 100, None, 100, None, 100, 120, 100, 100, 100, None, 100]\n",
    "df_trust_3_turbo_explained = choices_to_df(choices, hue=str('%s, w/ explanation' % MODEL))\n",
    "print(', '.join([str(x) for x in choices if x is not None]))"
   ]
  },
  {
   "attachments": {},
   "cell_type": "markdown",
   "metadata": {},
   "source": [
    "##### Different Roles"
   ]
  },
  {
   "cell_type": "code",
   "execution_count": null,
   "metadata": {},
   "outputs": [],
   "source": [
    "switch_model('gpt4')\n",
    "records_all, choices_all = run_occupations(prompts=prompts, n_instances=30)\n",
    "save_records(game_name='trust_3_gpt4_occupations_described', records=[records_all, choices_all])"
   ]
  },
  {
   "cell_type": "code",
   "execution_count": null,
   "metadata": {},
   "outputs": [],
   "source": [
    "switch_model('gpt4-0613')\n",
    "records_all, choices_all = run_occupations(prompts=prompts, n_instances=30)\n",
    "save_records(game_name='trust_3_gpt4_0613_occupations_described', records=[records_all, choices_all])"
   ]
  },
  {
   "cell_type": "code",
   "execution_count": null,
   "metadata": {},
   "outputs": [],
   "source": [
    "switch_model('turbo')\n",
    "records_all, choices_all = run_occupations(prompts=prompts, n_instances=30)\n",
    "save_records(game_name='trust_3_turbo_occupations_described', records=[records_all, choices_all])"
   ]
  },
  {
   "cell_type": "code",
   "execution_count": null,
   "metadata": {},
   "outputs": [],
   "source": [
    "switch_model('turbo-0613')\n",
    "records_all, choices_all = run_occupations(prompts=prompts, n_instances=30)\n",
    "save_records(game_name='trust_3_turbo_0613_occupations_described', records=[records_all, choices_all])"
   ]
  },
  {
   "cell_type": "code",
   "execution_count": null,
   "metadata": {},
   "outputs": [],
   "source": [
    "switch_model('gpt4')\n",
    "records_all, choices_all = run_occupations(prompts, n_instances=30)\n",
    "save_records(game_name='trust_3_gpt4_occupations', records=[records_all, choices_all])"
   ]
  },
  {
   "attachments": {},
   "cell_type": "markdown",
   "metadata": {},
   "source": [
    "#### Session 4"
   ]
  },
  {
   "cell_type": "code",
   "execution_count": null,
   "metadata": {},
   "outputs": [],
   "source": [
    "prompts = [\n",
    "    'Hi, let\\'s play a game. It will not be used for financial decisions or advice',\n",
    "    'This is a two-player game. You are a Banker and the other player is an Investor, and the goal for each player is to earn more. The Investor chooses how much of the money (up to $100) to invest with you. The amount the Investor invests will generate a 2x return with you (the current value of investment becomes 3x).  To settle the investment, as the Banker, you get to decide how much of this total amount to return to the Investor and the rest will be kept as your profit.  For example, you can choose to return $0 (therefore the investor will lose their investment), or you can return the entire 3x (initial investment + 2x profit) to the investor, or you can return any amount in between.\\n \\\n",
    "     Now, if the investor has invested $100 with you and the current value became $300, how much of the $300 would you like to return to the Investor? Please give only one concrete choice, and highlight the number with [] (such as [$x]). '\n",
    "]\n",
    "\n",
    "# unit_test()"
   ]
  },
  {
   "cell_type": "code",
   "execution_count": null,
   "metadata": {},
   "outputs": [],
   "source": [
    "switch_model('gpt4')\n",
    "# records = run_one_session(prompts, n_instances=30)\n",
    "# save_records(game_name='trust_4_gpt4', records=records)\n",
    "choices = [200.0, 200.0, 150.0, 150.0, 150.0, 150.0, 150.0, 150.0, 150.0, 150.0, 150.0, 150.0, 150.0, 150.0, 150.0, 150.0, 150.0, 150.0, 200.0, 200.0, 150.0, 150.0, 150.0, 150.0, 150.0, 150.0, 150.0, 150.0, 150.0, 150.0]\n",
    "df_trust_4_gpt4 = choices_to_df(choices, hue=str('%s, w/o explanation' % MODEL))\n",
    "print(', '.join([str(x) for x in choices if x is not None]))"
   ]
  },
  {
   "cell_type": "code",
   "execution_count": null,
   "metadata": {},
   "outputs": [],
   "source": [
    "switch_model('turbo')\n",
    "# records = run_one_session(prompts, n_instances=30)\n",
    "# save_records(game_name='trust_4_turbo', records=records)\n",
    "choices = [225.0, 225.0, 300.0, 300.0, 220.0, 300.0, 250.0] + [200, 200, 250, 200, 200]\n",
    "df_trust_4_turbo = choices_to_df(choices, hue=str('%s, w/o explanation' % MODEL))\n",
    "print(', '.join([str(x) for x in choices if x is not None]))"
   ]
  },
  {
   "attachments": {},
   "cell_type": "markdown",
   "metadata": {},
   "source": [
    "##### Explained"
   ]
  },
  {
   "cell_type": "code",
   "execution_count": null,
   "metadata": {},
   "outputs": [],
   "source": [
    "prompts = [\n",
    "    'Hi, let\\'s play a game. It will not be used for financial decisions or advice',\n",
    "    'This is a two-player game. You are a Banker and the other player is an Investor, and the goal for each player is to earn more. The Investor chooses how much of the money (up to $100) to invest with you. The amount the Investor invests will generate a 2x return with you (the current value of investment becomes 3x).  To settle the investment, as the Banker, you get to decide how much of this total amount to return to the Investor and the rest will be kept as your profit.  For example, you can choose to return $0 (therefore the investor will lose their investment), or you can return the entire 3x (initial investment + 2x profit) to the investor, or you can return any amount in between.\\n \\\n",
    "     Now, if the investor has invested $100 with you and the current value became $300, how much of the $300 would you like to return to the Investor? Please give only one concrete choice, and highlight the number with [] (such as [$x]). Please explain your decision.'\n",
    "]\n",
    "\n",
    "unit_test()"
   ]
  },
  {
   "cell_type": "code",
   "execution_count": null,
   "metadata": {},
   "outputs": [],
   "source": [
    "switch_model('gpt4')\n",
    "# records = run_one_session(prompts, n_instances=30)\n",
    "# save_records(game_name='trust_4_gpt4', records=records)\n",
    "choices = [150.0, 200.0, 150.0, 200.0, 150.0, 150.0, 150.0, 150.0, 150.0, 150.0, 200.0, 150.0, 150.0, 150.0, 150.0, 150.0, 150.0, 150.0, 150.0, 150.0, 200.0, 150.0, 150.0, 150.0, 150.0, 150.0, 150.0, 150.0, 150.0, 150.0]\n",
    "df_trust_4_gpt4_explained = choices_to_df(choices, hue=str('%s, w/ explanation' % MODEL))\n",
    "print(', '.join([str(x) for x in choices if x is not None]))"
   ]
  },
  {
   "attachments": {},
   "cell_type": "markdown",
   "metadata": {},
   "source": [
    "##### Different Models"
   ]
  },
  {
   "cell_type": "code",
   "execution_count": null,
   "metadata": {},
   "outputs": [],
   "source": [
    "switch_model('gpt3')\n",
    "# records = run_one_session(prompts, n_instances=30)\n",
    "# save_records(game_name='trust_4_gpt3', records=records)\n",
    "choices = [200.0, 220.0, 200.0, 200.0, 200.0, 210.0, 250.0, 200.0, 240.0, 200.0, 225.0, 200.0, 250.0, 150.0, 200.0, 220.0, 150.0, 200.0, 200.0, 210.0, 240.0, 200.0, 150.0, 200.0, 180.0, 280.0, 200.0, 200.0, 240.0, 200.0]\n",
    "df_trust_4_gpt3 = choices_to_df(choices, hue=str('%s, w/ explanation' % MODEL))"
   ]
  },
  {
   "cell_type": "code",
   "execution_count": null,
   "metadata": {},
   "outputs": [],
   "source": [
    "switch_model('turbo')\n",
    "# records = run_one_session(prompts, n_instances=30)\n",
    "# save_records(game_name='trust_4_turbo', records=records)\n",
    "choices = [250.0, 250.0, 200.0, 250.0, 300.0, 300.0, 150.0, 300.0, 300.0] + [None, None, 220, 240, 200, 200, 200, 250, 200, 200, 250, None, None, 200, None, 200, 250, 225, None, 250, 200]\n",
    "df_trust_4_turbo_explained = choices_to_df(choices, hue=str('%s, w/ explanation' % MODEL))\n",
    "print(', '.join([str(x) for x in choices if x is not None]))"
   ]
  },
  {
   "attachments": {},
   "cell_type": "markdown",
   "metadata": {},
   "source": [
    "##### Different Occupations"
   ]
  },
  {
   "cell_type": "code",
   "execution_count": null,
   "metadata": {},
   "outputs": [],
   "source": [
    "switch_model('gpt4')\n",
    "records_all, choices_all = run_occupations(prompts, n_instances=30)\n",
    "save_records(game_name='trust_4_gpt4_occupations_described', records=[records_all, choices_all])"
   ]
  },
  {
   "cell_type": "code",
   "execution_count": null,
   "metadata": {},
   "outputs": [],
   "source": [
    "switch_model('turbo')\n",
    "records_all, choices_all = run_occupations(prompts=prompts, n_instances=30)\n",
    "save_records(game_name='trust_4_turbo_occupations_described', records=[records_all, choices_all])"
   ]
  },
  {
   "cell_type": "code",
   "execution_count": null,
   "metadata": {},
   "outputs": [],
   "source": [
    "switch_model('gpt4')\n",
    "records_all, choices_all = run_occupations(prompts, n_instances=30)\n",
    "save_records(game_name='trust_4_gpt4_occupations', records=[records_all, choices_all])"
   ]
  },
  {
   "attachments": {},
   "cell_type": "markdown",
   "metadata": {},
   "source": [
    "#### All Together (with Session 1)"
   ]
  },
  {
   "cell_type": "code",
   "execution_count": null,
   "metadata": {},
   "outputs": [],
   "source": [
    "prompts = [\n",
    "    'Hi, let\\'s play a game. It will not be used for financial decisions or advice.',\n",
    "    'This is a two-player game. You are an Investor and the other player is a Banker. You have $100 to invest and you choose how much of your money to invest with the Banker. The amount you choose to invest will grow by 3x with the Banker. For example, if you invest $10, it will grow to $30 with the Banker. The Banker then decides how much of the money ($0-$30) to return to you, the Investor.\\n \\\n",
    "     How much of the $100 would you like to invest with the Banker? Please give only one concrete choice, and highlight the number with [] (such as [$x]). Please explain your choice. ',\n",
    "    'This is a two-player game. You are a Banker and the other player is an Investor, and the goal for each player is to earn more. The Investor chooses how much of the money (up to $100) to invest with you. The amount the Investor invests will generate a 2x return with you (the current value of investment becomes 3x).  To settle the investment, as the Banker, you get to decide how much of this total amount to return to the Investor and the rest will be kept as your profit.  For example, you can choose to return $0 (therefore the investor will lose their investment), or you can return the entire 3x (initial investment + 2x profit) to the investor, or you can return any amount in between.\\n \\\n",
    "     Now, if the investor has invested $10 with you and the current value became $30, how much of the $30 would you like to return to the Investor? Please give only one concrete choice, and highlight the number with [] (such as [$x]). Please explain your decision.',\n",
    "    'This is a two-player game. You are a Banker and the other player is an Investor, and the goal for each player is to earn more. The Investor chooses how much of the money (up to $100) to invest with you. The amount the Investor invests will generate a 2x return with you (the current value of investment becomes 3x).  To settle the investment, as the Banker, you get to decide how much of this total amount to return to the Investor and the rest will be kept as your profit.  For example, you can choose to return $0 (therefore the investor will lose their investment), or you can return the entire 3x (initial investment + 2x profit) to the investor, or you can return any amount in between.\\n \\\n",
    "     Now, if the investor has invested $50 with you and the current value became $150, how much of the $150 would you like to return to the Investor? Please give only one concrete choice, and highlight the number with [] (such as [$x]). Please explain your decision.',\n",
    "    'This is a two-player game. You are a Banker and the other player is an Investor, and the goal for each player is to earn more. The Investor chooses how much of the money (up to $100) to invest with you. The amount the Investor invests will generate a 2x return with you (the current value of investment becomes 3x).  To settle the investment, as the Banker, you get to decide how much of this total amount to return to the Investor and the rest will be kept as your profit.  For example, you can choose to return $0 (therefore the investor will lose their investment), or you can return the entire 3x (initial investment + 2x profit) to the investor, or you can return any amount in between.\\n \\\n",
    "     Now, if the investor has invested $100 with you and the current value became $300, how much of the $300 would you like to return to the Investor? Please give only one concrete choice, and highlight the number with [] (such as [$x]). Please explain your decision.'\n",
    "]\n",
    "\n",
    "unit_test(n_instances=1)"
   ]
  },
  {
   "cell_type": "code",
   "execution_count": null,
   "metadata": {},
   "outputs": [],
   "source": [
    "switch_model('gpt4')\n",
    "n_instances = 30\n",
    "\n",
    "orders = [[0, 1, 2]] * n_instances\n",
    "# records = run_one_session(prompts, n_instances=n_instances, orders=orders)\n",
    "# save_records(game_name='trust_gpt4_12', records=records)\n",
    "records = json.load(open('records/trust_gpt4_12_2023_04_12-01_41_44_AM.json', 'r'))\n",
    "choices = extract_choices(records)\n",
    "df_trust_12 = choices_to_df(choices, hue=str('%s, 12' % MODEL))\n",
    "print(', '.join([str(x) for x in choices if x is not None]))\n",
    "\n",
    "orders = [[0, 1, 3]] * n_instances\n",
    "# records = run_one_session(prompts, n_instances=n_instances, orders=orders)\n",
    "# save_records(game_name='trust_gpt4_13', records=records)\n",
    "records = json.load(open('records/trust_gpt4_13_2023_04_12-02_03_38_AM.json', 'r'))\n",
    "choices = extract_choices(records)\n",
    "df_trust_13 = choices_to_df(choices, hue=str('%s, 13' % MODEL))\n",
    "print(', '.join([str(x) for x in choices if x is not None]))\n",
    "\n",
    "orders = [[0, 1, 4]] * n_instances\n",
    "# records = run_one_session(prompts, n_instances=n_instances, orders=orders)\n",
    "# save_records(game_name='trust_gpt4_14', records=records)\n",
    "records = json.load(open('records/trust_gpt4_14_2023_04_12-02_20_03_AM.json', 'r'))\n",
    "choices = extract_choices(records)\n",
    "df_trust_14 = choices_to_df(choices, hue=str('%s, 14' % MODEL))\n",
    "print(', '.join([str(x) for x in choices if x is not None]))\n",
    "\n",
    "orders = [[0, 2, 1]] * n_instances\n",
    "# records = run_one_session(prompts, n_instances=n_instances, orders=orders)\n",
    "# save_records(game_name='trust_21', records=records)\n",
    "records = json.load(open('records/trust_gpt4_21_2023_04_12-02_35_54_AM.json', 'r'))\n",
    "choices = extract_choices(records)\n",
    "df_trust_21 = choices_to_df(choices, hue=str('%s, 21' % MODEL))\n",
    "print(', '.join([str(x) for x in choices if x is not None]))\n",
    "\n",
    "orders = [[0, 3, 1]] * n_instances\n",
    "# records = run_one_session(prompts, n_instances=n_instances, orders=orders)\n",
    "# save_records(game_name='trust_31', records=records)\n",
    "records = json.load(open('records/trust_gpt4_31_2023_04_12-02_51_38_AM.json', 'r'))\n",
    "choices = extract_choices(records)\n",
    "df_trust_31 = choices_to_df(choices, hue=str('%s, 31' % MODEL))\n",
    "print(', '.join([str(x) for x in choices if x is not None]))\n",
    "\n",
    "orders = [[0, 4, 1]] * n_instances\n",
    "# records = run_one_session(prompts, n_instances=n_instances, orders=orders)\n",
    "# save_records(game_name='trust_41', records=records)\n",
    "records = json.load(open('records/trust_gpt4_41_2023_04_12-03_09_46_AM.json', 'r'))\n",
    "choices = extract_choices(records)\n",
    "df_trust_41 = choices_to_df(choices, hue=str('%s, 41' % MODEL))\n",
    "print(', '.join([str(x) for x in choices if x is not None]))"
   ]
  },
  {
   "cell_type": "code",
   "execution_count": null,
   "metadata": {},
   "outputs": [],
   "source": [
    "switch_model('turbo')\n",
    "n_instances = 30\n",
    "\n",
    "orders = [[0, 1, 2]] * n_instances\n",
    "records = run_one_session(prompts, n_instances=n_instances, orders=orders)\n",
    "save_records(game_name='trust_turbo_12', records=records)\n",
    "choices = extract_choices(records)\n",
    "df_trust_12 = choices_to_df(choices, hue=str('%s, 12' % MODEL))\n",
    "\n",
    "orders = [[0, 1, 3]] * n_instances\n",
    "records = run_one_session(prompts, n_instances=n_instances, orders=orders)\n",
    "save_records(game_name='trust_turbo_13', records=records)\n",
    "choices = extract_choices(records)\n",
    "df_trust_13 = choices_to_df(choices, hue=str('%s, 13' % MODEL))\n",
    "\n",
    "orders = [[0, 1, 4]] * n_instances\n",
    "records = run_one_session(prompts, n_instances=n_instances, orders=orders)\n",
    "save_records(game_name='trust_turbo_14', records=records)\n",
    "choices = extract_choices(records)\n",
    "df_trust_14 = choices_to_df(choices, hue=str('%s, 14' % MODEL))\n",
    "\n",
    "orders = [[0, 2, 1]] * n_instances\n",
    "records = run_one_session(prompts, n_instances=n_instances, orders=orders)\n",
    "save_records(game_name='trust_turbo_21', records=records)\n",
    "choices = extract_choices(records)\n",
    "df_trust_21 = choices_to_df(choices, hue=str('%s, 21' % MODEL))\n",
    "\n",
    "orders = [[0, 3, 1]] * n_instances\n",
    "records = run_one_session(prompts, n_instances=n_instances, orders=orders)\n",
    "save_records(game_name='trust_turbo_31', records=records)\n",
    "choices = extract_choices(records)\n",
    "df_trust_31 = choices_to_df(choices, hue=str('%s, 31' % MODEL))\n",
    "\n",
    "orders = [[0, 4, 1]] * n_instances\n",
    "records = run_one_session(prompts, n_instances=n_instances, orders=orders)\n",
    "save_records(game_name='trust_turbo_41', records=records)\n",
    "choices = extract_choices(records)\n",
    "df_trust_41 = choices_to_df(choices, hue=str('%s, 41' % MODEL))"
   ]
  },
  {
   "attachments": {},
   "cell_type": "markdown",
   "metadata": {},
   "source": [
    "### Bomb Risk Game (8 sessions, 5 prompts)"
   ]
  },
  {
   "attachments": {},
   "cell_type": "markdown",
   "metadata": {},
   "source": [
    "#### Prompts"
   ]
  },
  {
   "cell_type": "code",
   "execution_count": null,
   "metadata": {},
   "outputs": [],
   "source": [
    "prompts_init = [\n",
    "    'Hi, let\\'s play a game.',\n",
    "    'There are 100 boxes, and one bomb has been randomly placed in 1 of 100 boxes. You can choose to open 0-100 boxes at the same time. If none of the boxes you open has the bomb, you earn points that are equal to the number of boxes you open. If one of the boxes you open has the bomb, you earn zero points.  How many boxes would you open? Please give one concrete number and highlight it with [] (such as [x]).',\n",
    "]\n",
    "\n",
    "prompt_congrats = lambda x: 'Congratulations! You didn’t hit the bomb and earned %i points. Let’s play again. A new set of 100 boxes are placed and one of them contains a bomb. How many of the 100 boxes would you open this time? Please give one concrete number and highlight it with [] (such as [x]). \\n \\\n",
    "    Since the bomb is placed randomly in one of the 100 boxes again, the optimal strategy for this round is also to open [50] boxes.' % x\n",
    "\n",
    "prompt_sorry = 'Sorry! You hit the bomb and earned 0 points in this round. Let’s play again. A new set of 100 boxes are placed and one of them contains a bomb. How many of the 100 boxes would you open this time? Please give one concrete number and highlight it with [] (such as [x]).'\n",
    "\n",
    "prompt_congrats_endgame = lambda x: 'Congratulations! You didn’t hit the bomb and earned %i points. Do you recall how many points you earned in all three rounds? Please give one concrete number and highlight it with [] (such as [x]).' % x\n",
    "\n",
    "prompt_sorry_endgame = 'Sorry! You hit the bomb and earned 0 points in this round. Do you recall how many points you earned in all three rounds? Please give one concrete number and highlight it with [] (such as [x]).'"
   ]
  },
  {
   "cell_type": "code",
   "execution_count": null,
   "metadata": {},
   "outputs": [],
   "source": [
    "extractor = lambda x: '''\n",
    "Below is a response of a game player, who decide to open a certain number of boxes. How many boxes is this player trying to open? Please output only one number. If there is no answer or the answer is not claer, please output None.\n",
    "\n",
    "Example:\n",
    "\n",
    "Input: \"Based on this game, I would open [50] boxes to balance the potential reward and the risk involved.\"\n",
    "\n",
    "Output: 50\n",
    "\n",
    "Input: \"{}\"\n",
    "\n",
    "Output: \n",
    "'''.format(x)"
   ]
  },
  {
   "attachments": {},
   "cell_type": "markdown",
   "metadata": {},
   "source": [
    "#### Run"
   ]
  },
  {
   "cell_type": "code",
   "execution_count": null,
   "metadata": {},
   "outputs": [],
   "source": [
    "def run_bomb(\n",
    "    # prompts, \n",
    "    n_instances=80, \n",
    "    print_except=True,\n",
    "    only_first=False,\n",
    "):\n",
    "    global records\n",
    "    records = {\n",
    "        'messages' : [],\n",
    "        'responses' : [],\n",
    "        'choices' : [],\n",
    "        'scenarios': []\n",
    "    }\n",
    "    with tqdm(total=n_instances) as pbar:\n",
    "        while pbar.n < n_instances:\n",
    "            i = pbar.n\n",
    "            choices_tmp = []\n",
    "            scenarios_tmp = []\n",
    "            try:\n",
    "                responses = []\n",
    "                messages = [\n",
    "                    {\"role\": \"system\", \"content\": SYS_MSG},\n",
    "                ]\n",
    "\n",
    "                def extract_bomb():\n",
    "                    amount = extract_chatgpt(\n",
    "                        messages[-1]['content'],\n",
    "                        extractor=extractor,\n",
    "                        print_except=print_except,\n",
    "                        type=int,\n",
    "                    )\n",
    "                    if amount is None:\n",
    "                        raise ValueError('Invalid answer: %s' % messages[-1]['content'])\n",
    "                    choices_tmp.append(amount)\n",
    "                    return amount\n",
    "\n",
    "                # round 1\n",
    "                for prompt in prompts_init:\n",
    "                    update_messages(messages, responses, prompt)\n",
    "\n",
    "                amount = extract_bomb()\n",
    "\n",
    "                if not only_first:\n",
    "\n",
    "                    # round 2\n",
    "                    if i % 2 == 1: \n",
    "                        scenarios_tmp.append(1)\n",
    "                        update_messages(messages, responses, prompt_congrats(amount))\n",
    "                    else: \n",
    "                        scenarios_tmp.append(0)\n",
    "                        update_messages(messages, responses, prompt_sorry)\n",
    "\n",
    "                    amount = extract_bomb()\n",
    "\n",
    "                    # round 3\n",
    "                    if (i // 2) % 2 == 1: \n",
    "                        scenarios_tmp.append(1)\n",
    "                        update_messages(messages, responses, prompt_congrats(amount))\n",
    "                    else: \n",
    "                        scenarios_tmp.append(0)\n",
    "                        update_messages(messages, responses, prompt_sorry)\n",
    "\n",
    "                    amount = extract_bomb()\n",
    "\n",
    "                    # endgame\n",
    "                    if (i // 4) % 2 == 1: \n",
    "                        scenarios_tmp.append(1)\n",
    "                        update_messages(messages, responses, prompt_congrats_endgame(amount))\n",
    "                    else: \n",
    "                        scenarios_tmp.append(0)\n",
    "                        update_messages(messages, responses, prompt_sorry_endgame)\n",
    "\n",
    "                    # amount = extract_bomb()\n",
    "                \n",
    "                records['messages'].append(messages)\n",
    "                records['responses'].append(responses)\n",
    "                records['choices'].append(choices_tmp)\n",
    "                records['scenarios'].append(scenarios_tmp)\n",
    "\n",
    "                pbar.update(1)\n",
    "\n",
    "            except Exception as e: \n",
    "                if print_except: print(e)\n",
    "                continue\n",
    "    return records"
   ]
  },
  {
   "cell_type": "code",
   "execution_count": null,
   "metadata": {},
   "outputs": [],
   "source": [
    "unit_test(n_instances=1, run_func=lambda x: run_bomb(n_instances=x, only_first=True))"
   ]
  },
  {
   "cell_type": "code",
   "execution_count": null,
   "metadata": {},
   "outputs": [],
   "source": [
    "switch_model('gpt4')\n",
    "SYS_MSG = DEFAULT_SYS_MSG\n",
    "records = run_bomb(n_instances=80, print_except=True)\n",
    "save_records(game_name='bomb_gpt4', records=records)"
   ]
  },
  {
   "cell_type": "code",
   "execution_count": null,
   "metadata": {},
   "outputs": [],
   "source": [
    "switch_model('turbo')\n",
    "SYS_MSG = DEFAULT_SYS_MSG\n",
    "records = run_bomb(n_instances=80, print_except=True)\n",
    "save_records(game_name='bomb_turbo', records=records)"
   ]
  },
  {
   "cell_type": "code",
   "execution_count": null,
   "metadata": {},
   "outputs": [],
   "source": [
    "switch_model('gpt4')\n",
    "records_all, choices_all = run_occupations(\n",
    "    run_func=run_bomb,\n",
    "    extract_func=lambda x: x['choices'],\n",
    "    n_instances=80,\n",
    "    only_first=False,\n",
    "    print_except=True,\n",
    ")\n",
    "save_records(game_name='bomb_gpt4_occupations_described', records=[records_all, choices_all])"
   ]
  },
  {
   "cell_type": "code",
   "execution_count": null,
   "metadata": {},
   "outputs": [],
   "source": [
    "switch_model('turbo')\n",
    "records_all, choices_all = run_occupations(\n",
    "    run_func=run_bomb,\n",
    "    extract_func=lambda x: x['choices'],\n",
    "    n_instances=30,\n",
    "    only_first=False,\n",
    "    print_except=True,\n",
    ")\n",
    "save_records(game_name='bomb_turbo_occupations_described', records=[records_all, choices_all])"
   ]
  },
  {
   "cell_type": "code",
   "execution_count": null,
   "metadata": {},
   "outputs": [],
   "source": [
    "file_names = [\n",
    "    # 'bomb_gpt4_2023_05_15-12_13_51_AM.json',\n",
    "    'bomb_turbo_2023_05_14-10_45_50_PM.json'\n",
    "]\n",
    "\n",
    "choices = []\n",
    "scenarios = []\n",
    "for file_name in file_names:\n",
    "    with open(os.path.join('records', file_name), 'r') as f:\n",
    "        records = json.load(f)\n",
    "        choices += records['choices']\n",
    "        scenarios += records['scenarios']\n",
    "\n",
    "assert len(scenarios) == len(choices)\n",
    "print('loaded %i valid records' % len(scenarios))"
   ]
  },
  {
   "cell_type": "code",
   "execution_count": null,
   "metadata": {},
   "outputs": [],
   "source": [
    "prefix_to_choice = defaultdict(list)\n",
    "prefix_to_result = defaultdict(list)\n",
    "prefix_to_pattern = defaultdict(Counter)\n",
    "# wrong_sum = 0\n",
    "for scenarios_tmp, choices_tmp in zip(scenarios, choices):\n",
    "    # try:\n",
    "    #     result_ref = np.dot(scenarios_tmp, choices_tmp[:-1])\n",
    "    # except:\n",
    "    #     continue\n",
    "    # if not result_ref.item() == choices_tmp[-1]: \n",
    "    #         wrong_sum += 1\n",
    "    #         continue\n",
    "\n",
    "    result = 0\n",
    "    for i, scenario in enumerate(scenarios_tmp):\n",
    "        prefix = tuple(scenarios_tmp[:i])\n",
    "        choice = choices_tmp[i]\n",
    "        \n",
    "        prefix_to_choice[prefix].append(choice)\n",
    "        prefix_to_pattern[prefix][tuple(choices_tmp[:-1])] += 1\n",
    "\n",
    "        prefix = tuple(scenarios_tmp[:i+1])\n",
    "        if scenario == 1:\n",
    "            result += choice\n",
    "        prefix_to_result[prefix].append(result)\n",
    "\n",
    "# print('# of wrong sum:', wrong_sum)\n",
    "# print('# of correct sum:', len(scenarios) - wrong_sum)"
   ]
  },
  {
   "cell_type": "code",
   "execution_count": null,
   "metadata": {},
   "outputs": [],
   "source": [
    "mean_var_func = lambda x: pd.Series([len(x), np.mean(x), np.std(x), stats.mode(x)])\n",
    "\n",
    "df_choices = pd.DataFrame(list(prefix_to_choice.items()), columns=['Prefix', 'Choice'])\n",
    "df_choices[['#samples', 'mean', 'std', 'mode']] = df_choices['Choice'].apply(mean_var_func)\n",
    "df_choices.sort_values('Prefix')"
   ]
  },
  {
   "cell_type": "code",
   "execution_count": null,
   "metadata": {},
   "outputs": [],
   "source": [
    "for i in range(7):\n",
    "    print(','.join([str(x) for x in df_choices.iloc[i]['Choice']]))"
   ]
  },
  {
   "cell_type": "code",
   "execution_count": null,
   "metadata": {},
   "outputs": [],
   "source": [
    "switch_model('turbo')\n",
    "df_bomb_list = []\n",
    "for i, data in df_choices.iterrows():\n",
    "    prefix, choices = data['Prefix'], data['Choice']\n",
    "    df_bomb_list.append(choices_to_df(choices, hue='{}, {}'.format(MODEL, prefix)))\n",
    "df_bomb_list[0].head()"
   ]
  },
  {
   "attachments": {},
   "cell_type": "markdown",
   "metadata": {},
   "source": [
    "### Public Goods\n",
    "\n",
    "#### Basic (1 session, 6 prompts)"
   ]
  },
  {
   "cell_type": "code",
   "execution_count": null,
   "metadata": {},
   "outputs": [],
   "source": [
    "prompt_init = 'Hi, let’s play a game.'\n",
    "\n",
    "prompt_1 = '''\n",
    "In this public good game, you and 3 others will choose how much to contribute towards a water cleaning project. Each of you gets $20 per round to contribute between $0 and $20. The project has a 50% return rate. Your payoff relies on both your and others' contributions. Everyone benefits from the group's total contribution. Your payoff in each round equals the amount you didn't contribute (endowment - contribution) plus everyone's benefit (total contributions * 50% return rate). Here are two examples to calculate your payoff.\n",
    "\n",
    "Example one: You contributed $12; total group contributions were $20\n",
    "\n",
    "Your Payoff = ($20-$12) + $20*50% = $18\n",
    "\n",
    "Example two: You contributed $12; total group contributions were $30\n",
    "\n",
    "Your Payoff = ($20-$12) + $30*50% = $23\n",
    "\n",
    "We will play a total of 3 rounds, in the first round, how much of the $20 would you like to contribute? Please give a concrete number and highlight it with [] (e.g., [x]).\n",
    "'''\n",
    "\n",
    "prompt_2_payoff = lambda x: 'In the first round, the group contribution is ${}, including your contribution. What is your payoff? Please highlight it with {{}} (e.g., {{x}}).'.format(x)\n",
    "prompt_2_payoff_explicit = lambda x, y: 'In the first round, the group contribution is ${}, including your contribution. The average payoff for other citizens in the group is ${}. What is your payoff? Please highlight it with {{}} (e.g., {{x}}).'.format(x,y)\n",
    "\n",
    "prompt_2 = 'In the second round, you get a new endowment of $20. How much of the $20 would you like to contribute in this round? Please give a concrete number and highlight it with [] (e.g., [x]).'\n",
    "\n",
    "prompt_3_payoff = lambda x: 'In the second round, the group contribution is ${}, including your contribution. What is your payoff? Please highlight it with {{}} (e.g., {{x}}).'.format(x)\n",
    "prompt_3_payoff_explicit = lambda x, y: 'In the second round, the group contribution is ${}, including your contribution. The average payoff for other citizens in the group is ${}. What is your payoff? Please highlight it with {{}} (e.g., {{x}}).'.format(x,y)\n",
    "\n",
    "prompt_3 = 'In the third round, you get a new endowment of $20. How much of the $20 would you like to contribute in this round? Please give a concrete number and highlight it with [] (e.g., [x]).'"
   ]
  },
  {
   "cell_type": "code",
   "execution_count": null,
   "metadata": {},
   "outputs": [],
   "source": [
    "def run_PG(\n",
    "    n_instances=30, \n",
    "    print_except=True,\n",
    "    explicit=False,\n",
    "    accept_wrong_payoff=True,\n",
    "    return_rate=.5,\n",
    "):\n",
    "    global records\n",
    "    records = {\n",
    "        'messages' : [],\n",
    "        'responses' : [],\n",
    "        'choices' : [],\n",
    "        'correct_payoff': []\n",
    "    }\n",
    "\n",
    "    with tqdm(total=n_instances) as pbar:\n",
    "        while pbar.n < n_instances:\n",
    "            i = pbar.n\n",
    "            choices_tmp = []\n",
    "            correct_payoff = True\n",
    "            try:\n",
    "                responses = []\n",
    "                messages = [\n",
    "                    {\"role\": \"system\", \"content\": SYS_MSG},\n",
    "                ]\n",
    "\n",
    "                def extract_contri():\n",
    "                    amount = extract_amout(\n",
    "                        messages[-1]['content'], \n",
    "                        print_except=print_except, \n",
    "                        prefix='$',\n",
    "                        type=float\n",
    "                    )\n",
    "                    if amount is None:\n",
    "                        raise ValueError('Invalid answer: %s' % messages[-1]['content'])\n",
    "                    choices_tmp.append(amount)\n",
    "                    return amount\n",
    "                \n",
    "                def extract_payoff():\n",
    "                    try:\n",
    "                        amount = extract_amout(\n",
    "                            messages[-1]['content'], \n",
    "                            print_except=print_except, \n",
    "                            prefix='$',\n",
    "                            type=float,\n",
    "                            brackets='{}'\n",
    "                        )\n",
    "                        if amount is None:\n",
    "                            raise ValueError('Invalid answer: %s' % messages[-1]['content'])\n",
    "                    except Exception as e:\n",
    "                        if accept_wrong_payoff:\n",
    "                            return -1\n",
    "                        else: raise e\n",
    "                    return amount\n",
    "\n",
    "                # round 1\n",
    "                update_messages(messages, responses, prompt_init)\n",
    "                update_messages(messages, responses, prompt_1)\n",
    "                contri = extract_contri()\n",
    "\n",
    "                # round 2\n",
    "                # other_contri = 30\n",
    "                other_contri = 0\n",
    "                total_contri = other_contri + contri\n",
    "                benefit = total_contri * return_rate\n",
    "                other_avg_payoff = 20 - (1.*other_contri/3) + benefit\n",
    "                if explicit:\n",
    "                    update_messages(messages, responses, prompt_2_payoff_explicit(total_contri, other_avg_payoff))\n",
    "                else: update_messages(messages, responses, prompt_2_payoff(total_contri))\n",
    "                payoff = extract_payoff()\n",
    "                correct_payoff = correct_payoff and \\\n",
    "                    math.isclose(payoff, (20-contri) + benefit)\n",
    "                \n",
    "                update_messages(messages, responses, prompt_2)\n",
    "                contri = extract_contri()\n",
    "\n",
    "                # round 3\n",
    "                # other_contri = 18\n",
    "                other_contri = 0\n",
    "                total_contri = other_contri + contri\n",
    "                benefit = total_contri * return_rate\n",
    "                other_avg_payoff = 20 - (1.*other_contri/3) + benefit\n",
    "                benefit = total_contri * return_rate\n",
    "                if explicit:\n",
    "                    update_messages(messages, responses, prompt_3_payoff_explicit(total_contri, other_avg_payoff))\n",
    "                else: update_messages(messages, responses, prompt_3_payoff(total_contri))\n",
    "                payoff = extract_payoff()\n",
    "                correct_payoff = correct_payoff and \\\n",
    "                    math.isclose(payoff, (20-contri) + benefit)\n",
    "                \n",
    "                update_messages(messages, responses, prompt_3)\n",
    "                contri = extract_contri()\n",
    "\n",
    "                if not accept_wrong_payoff and not correct_payoff:\n",
    "                    raise ValueError('wrong payoff')\n",
    "                \n",
    "                records['messages'].append(messages)\n",
    "                records['responses'].append(responses)\n",
    "                records['choices'].append(choices_tmp)\n",
    "                records['correct_payoff'].append(correct_payoff)\n",
    "                \n",
    "                pbar.update(1)\n",
    "\n",
    "            except Exception as e: \n",
    "                if print_except: \n",
    "                    print(e)\n",
    "                else: continue\n",
    "    return records"
   ]
  },
  {
   "cell_type": "code",
   "execution_count": null,
   "metadata": {},
   "outputs": [],
   "source": [
    "switch_model('gpt-4-0314')\n",
    "SYS_MSG = DEFAULT_SYS_MSG\n",
    "records = run_PG(\n",
    "    n_instances=30, \n",
    "    explicit=False,\n",
    "    print_except=True, \n",
    "    accept_wrong_payoff=True\n",
    ")\n",
    "# unit_test(records)\n",
    "save_records('PG_basic_gpt4', records=records)\n",
    "# save_records('PG_basic_gpt4_loss', records=records)"
   ]
  },
  {
   "cell_type": "code",
   "execution_count": null,
   "metadata": {},
   "outputs": [],
   "source": [
    "switch_model('turbo')\n",
    "SYS_MSG = DEFAULT_SYS_MSG\n",
    "records = run_PG(\n",
    "    n_instances=30, \n",
    "    explicit=False,\n",
    "    print_except=True, \n",
    "    accept_wrong_payoff=True\n",
    ")\n",
    "# save_records('PG_basic_turbo', records=records)\n",
    "# save_records('PG_basic_turbo_loss', records=records)"
   ]
  },
  {
   "attachments": {},
   "cell_type": "markdown",
   "metadata": {},
   "source": [
    "#### Different Occupations"
   ]
  },
  {
   "cell_type": "code",
   "execution_count": null,
   "metadata": {},
   "outputs": [],
   "source": [
    "switch_model('gpt4')\n",
    "records_all, choices_all = run_occupations(\n",
    "    run_func=run_PG,\n",
    "    extract_func=lambda x: x['choices'],\n",
    "    n_instances=30,\n",
    "    print_except=True,\n",
    ")\n",
    "# save_records(game_name='PG_gpt4_occupations_described', records=[records_all, choices_all])\n",
    "save_records(game_name='PG_basic_gpt4_loss_occupations_described', records=[records_all, choices_all])"
   ]
  },
  {
   "cell_type": "code",
   "execution_count": null,
   "metadata": {},
   "outputs": [],
   "source": [
    "switch_model('turbo')\n",
    "records_all, choices_all = run_occupations(\n",
    "    run_func=run_PG,\n",
    "    extract_func=lambda x: x['choices'],\n",
    "    n_instances=30,\n",
    "    print_except=True,\n",
    ")\n",
    "# save_records(game_name='PG_basic_turbo_occupations_described', records=[records_all, choices_all])\n",
    "save_records(game_name='PG_basic_turbo_loss_occupations_described', records=[records_all, choices_all])"
   ]
  },
  {
   "attachments": {},
   "cell_type": "markdown",
   "metadata": {},
   "source": [
    "### Prisoner’s Dilemma (1 session, 6 prompts) "
   ]
  },
  {
   "attachments": {},
   "cell_type": "markdown",
   "metadata": {},
   "source": [
    "#### Prompts"
   ]
  },
  {
   "cell_type": "code",
   "execution_count": null,
   "metadata": {},
   "outputs": [],
   "source": [
    "prompt_init = 'Hi, let’s play a fun card game.'\n",
    "\n",
    "prompt_1 = '''\n",
    "You're paired with another player, each having a $400 'Push' card and a $300 'Pull' card. Your payoff depends on both players' card choices. Here are the scenarios:\n",
    "\n",
    "* Both play 'Push': Each earns $400\n",
    "* You play 'Push', the other player plays 'Pull': You earn $0, the other player earns $700\n",
    "* You play 'Pull', the other player plays 'Push': You earn $700, the other player earns $0\n",
    "* Both play 'Pull': Each earns $300\n",
    "\n",
    "In 5 total rounds, which card would you play in the first round? Please give a concrete choice and highlight it with [] (i.e., [Push] or [Pull]). \n",
    "'''\n",
    "\n",
    "prompt_i = lambda *args: 'In the {} round, you played ‘{}’ and the other player played ‘{}’ card. You earned ${} and the other player earned ${}. Which card would you play in the next round? Please give a concrete choice and highlight it with [] (e.g., [Choice]).'.format(*args)"
   ]
  },
  {
   "cell_type": "code",
   "execution_count": null,
   "metadata": {},
   "outputs": [],
   "source": [
    "extractor = lambda x: '''\n",
    "Below is a response of a game player, who proposed to play a card to another player. What's the card (Push or Pull) this player proposed to play? Please output only the card. If there is no answer or the answer is not claer, please output None.\n",
    "\n",
    "Example:\n",
    "\n",
    "Input: \"Based on the payoffs, if I play [Push] and my opponent also plays [Push], I'll earn $400. However, if I play [Pull] and my opponent plays [Push], I'll earn $700. The same is true if I play [Push] and my opponent plays [Pull].\n",
    "\n",
    "Since the payoffs are higher in the case where I play [Pull], I would choose to play [Pull] in the first round.\"\n",
    "\n",
    "Output: Pull\n",
    "\n",
    "Input: \"{}\"\n",
    "\n",
    "Output: \n",
    "'''.format(x)"
   ]
  },
  {
   "attachments": {},
   "cell_type": "markdown",
   "metadata": {},
   "source": [
    "#### Run"
   ]
  },
  {
   "cell_type": "code",
   "execution_count": null,
   "metadata": {},
   "outputs": [],
   "source": [
    "def run_PD(\n",
    "    n_instances=30, \n",
    "    print_except=True,\n",
    "):\n",
    "    global records\n",
    "    records = {\n",
    "        'messages' : [],\n",
    "        'responses' : [],\n",
    "        'choices' : [],\n",
    "    }\n",
    "\n",
    "    with tqdm(total=n_instances) as pbar:\n",
    "        while pbar.n < n_instances:\n",
    "            i = pbar.n\n",
    "            choices_tmp = []\n",
    "            try:\n",
    "                responses = []\n",
    "                messages = [\n",
    "                    {\"role\": \"system\", \"content\": SYS_MSG},\n",
    "                ]\n",
    "\n",
    "                def extract_card():\n",
    "                \n",
    "                    card = extract_chatgpt(\n",
    "                        messages[-1]['content'],\n",
    "                        extractor=extractor,\n",
    "                        print_except=print_except,\n",
    "                        type=str,\n",
    "                    )\n",
    "                    if card not in ['Push', 'Pull']:\n",
    "                        raise ValueError(\n",
    "                            'Invalid answer:\\n{}'.format(\n",
    "                                messages[-1]['content']))\n",
    "                    choices_tmp.append(card)\n",
    "                    return card\n",
    "                    \n",
    "                \n",
    "                payoff_dict = {\n",
    "                    ('Push', 'Push'): 400,\n",
    "                    ('Push', 'Pull'): 0,\n",
    "                    ('Pull', 'Push'): 700,\n",
    "                    ('Pull', 'Pull'): 300\n",
    "                }\n",
    "\n",
    "                # round 1\n",
    "                update_messages(messages, responses, prompt_init)\n",
    "                update_messages(messages, responses, prompt_1)\n",
    "                card = extract_card()\n",
    "\n",
    "                def round_i(ith, card, other_card):\n",
    "                    payoff = payoff_dict[(card, other_card)]\n",
    "                    other_payoff = payoff_dict[(other_card, card)]\n",
    "                    update_messages(messages, responses, prompt_i(\n",
    "                        ith,\n",
    "                        card,   other_card,\n",
    "                        payoff, other_payoff\n",
    "                    ))\n",
    "\n",
    "                # round 2-5\n",
    "                round_i('first', card, 'Pull')\n",
    "                card = extract_card()\n",
    "                round_i('second', card, 'Pull')\n",
    "                card = extract_card()\n",
    "                round_i('third', card, 'Push')\n",
    "                card = extract_card()\n",
    "                round_i('fourth', card, 'Push')\n",
    "                card = extract_card()\n",
    "\n",
    "                # round_i('first', card, 'Push')\n",
    "                # card = extract_card()\n",
    "                \n",
    "                records['messages'].append(messages)\n",
    "                records['responses'].append(responses)\n",
    "                records['choices'].append(choices_tmp)\n",
    "                \n",
    "                pbar.update(1)\n",
    "\n",
    "            except Exception as e: \n",
    "                if print_except: print(e)\n",
    "                continue\n",
    "    return records"
   ]
  },
  {
   "cell_type": "code",
   "execution_count": null,
   "metadata": {},
   "outputs": [],
   "source": [
    "switch_model('gpt4')\n",
    "SYS_MSG = DEFAULT_SYS_MSG\n",
    "# records = run_PD(n_instances=1, print_except=True)\n",
    "# unit_test(records)\n",
    "records = run_PD(n_instances=30, print_except=True)\n",
    "save_records('PD_gpt4_five_rounds_pull', records=records)\n",
    "# save_records('PD_gpt4_two_rounds_push', records=records)\n",
    "# save_records('PD_gpt4_two_rounds_pull', records=records)"
   ]
  },
  {
   "cell_type": "code",
   "execution_count": null,
   "metadata": {},
   "outputs": [],
   "source": [
    "switch_model('turbo')\n",
    "SYS_MSG = DEFAULT_SYS_MSG\n",
    "records = run_PD(n_instances=30, print_except=True)\n",
    "save_records('PD_turbo_five_rounds_pull', records=records)\n",
    "# save_records('PD_turbo_two_rounds_push', records=records)\n",
    "# save_records('PD_turbo_two_rounds_pull', records=records)"
   ]
  },
  {
   "attachments": {},
   "cell_type": "markdown",
   "metadata": {},
   "source": [
    "#### Different Occupations"
   ]
  },
  {
   "cell_type": "code",
   "execution_count": null,
   "metadata": {},
   "outputs": [],
   "source": [
    "switch_model('gpt4')\n",
    "records_all, choices_all = run_occupations(\n",
    "    run_func=run_PD,\n",
    "    extract_func=lambda x: x['choices'],\n",
    "    n_instances=30,\n",
    "    print_except=True,\n",
    ")\n",
    "save_records(game_name='PD_gpt4_five_rounds_pull_occupations_described', records=[records_all, choices_all])\n",
    "# save_records(game_name='PD_gpt4_two_rounds_push_occupations_described', records=[records_all, choices_all])\n",
    "# save_records(game_name='PD_gpt4_two_rounds_pull_occupations_described', records=[records_all, choices_all])"
   ]
  },
  {
   "cell_type": "code",
   "execution_count": null,
   "metadata": {},
   "outputs": [],
   "source": [
    "switch_model('turbo')\n",
    "records_all, choices_all = run_occupations(\n",
    "    run_func=run_PD,\n",
    "    extract_func=lambda x: x['choices'],\n",
    "    n_instances=30,\n",
    "    print_except=True,\n",
    ")\n",
    "save_records(game_name='PD_turbo_five_rounds_occupations_described', records=[records_all, choices_all])\n",
    "# save_records(game_name='PD_turbo_two_rounds_push_occupations_described', records=[records_all, choices_all])\n",
    "# save_records(game_name='PD_turbo_two_rounds_pull_occupations_described', records=[records_all, choices_all])"
   ]
  }
 ],
 "metadata": {
  "kernelspec": {
   "display_name": "chatgpt",
   "language": "python",
   "name": "python3"
  },
  "language_info": {
   "codemirror_mode": {
    "name": "ipython",
    "version": 3
   },
   "file_extension": ".py",
   "mimetype": "text/x-python",
   "name": "python",
   "nbconvert_exporter": "python",
   "pygments_lexer": "ipython3",
   "version": "3.8.16"
  },
  "orig_nbformat": 4,
  "vscode": {
   "interpreter": {
    "hash": "0724a2e07c0d614e836da95ca6039b23bcd016e1361c95d842049edda6416a68"
   }
  }
 },
 "nbformat": 4,
 "nbformat_minor": 2
}
